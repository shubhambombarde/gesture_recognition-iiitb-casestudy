{
 "cells": [
  {
   "cell_type": "markdown",
   "metadata": {},
   "source": [
    "# Gesture Recognition\n",
    "In this group project, you are going to build a 3D Conv model that will be able to predict the 5 gestures correctly. Please import the following libraries to get started."
   ]
  },
  {
   "cell_type": "code",
   "execution_count": 48,
   "metadata": {},
   "outputs": [
    {
     "name": "stdout",
     "output_type": "stream",
     "text": [
      "Tue Jun 22 16:54:00 2021       \n",
      "+-----------------------------------------------------------------------------+\n",
      "| NVIDIA-SMI 460.73.01    Driver Version: 460.73.01    CUDA Version: 11.2     |\n",
      "|-------------------------------+----------------------+----------------------+\n",
      "| GPU  Name        Persistence-M| Bus-Id        Disp.A | Volatile Uncorr. ECC |\n",
      "| Fan  Temp  Perf  Pwr:Usage/Cap|         Memory-Usage | GPU-Util  Compute M. |\n",
      "|                               |                      |               MIG M. |\n",
      "|===============================+======================+======================|\n",
      "|   0  Quadro RTX 5000     Off  | 00000000:1C:00.0 Off |                  Off |\n",
      "| 33%   33C    P8     2W / 230W |  15700MiB / 16125MiB |      0%      Default |\n",
      "|                               |                      |                  N/A |\n",
      "+-------------------------------+----------------------+----------------------+\n",
      "                                                                               \n",
      "+-----------------------------------------------------------------------------+\n",
      "| Processes:                                                                  |\n",
      "|  GPU   GI   CI        PID   Type   Process name                  GPU Memory |\n",
      "|        ID   ID                                                   Usage      |\n",
      "|=============================================================================|\n",
      "+-----------------------------------------------------------------------------+\n"
     ]
    }
   ],
   "source": [
    "!nvidia-smi"
   ]
  },
  {
   "cell_type": "code",
   "execution_count": 49,
   "metadata": {},
   "outputs": [],
   "source": [
    "import numpy as np\n",
    "import os\n",
    "# from scipy.misc import  imresize\n",
    "from matplotlib.pyplot import imread\n",
    "from skimage.transform import resize\n",
    "\n",
    "\n",
    "import datetime\n",
    "import os"
   ]
  },
  {
   "cell_type": "markdown",
   "metadata": {},
   "source": [
    "We set the random seed so that the results don't vary drastically."
   ]
  },
  {
   "cell_type": "code",
   "execution_count": 50,
   "metadata": {},
   "outputs": [
    {
     "name": "stdout",
     "output_type": "stream",
     "text": [
      "Requirement already satisfied: keras in /usr/local/lib/python3.6/dist-packages (2.4.3)\n",
      "Requirement already satisfied: scipy>=0.14 in /usr/local/lib/python3.6/dist-packages (from keras) (1.4.1)\n",
      "Requirement already satisfied: h5py in /usr/local/lib/python3.6/dist-packages (from keras) (2.10.0)\n",
      "Requirement already satisfied: pyyaml in /usr/local/lib/python3.6/dist-packages (from keras) (5.3.1)\n",
      "Requirement already satisfied: numpy>=1.9.1 in /usr/local/lib/python3.6/dist-packages (from keras) (1.17.3)\n",
      "Requirement already satisfied: six in /usr/local/lib/python3.6/dist-packages (from h5py->keras) (1.15.0)\n",
      "\u001b[33mWARNING: You are using pip version 20.2.4; however, version 21.1.2 is available.\n",
      "You should consider upgrading via the '/usr/bin/python -m pip install --upgrade pip' command.\u001b[0m\n"
     ]
    }
   ],
   "source": [
    "np.random.seed(30)\n",
    "import random as rn\n",
    "rn.seed(30)\n",
    "!pip install keras\n",
    "from keras import backend as K\n",
    "import tensorflow as tf\n",
    "tf.random.set_seed(30)"
   ]
  },
  {
   "cell_type": "code",
   "execution_count": 51,
   "metadata": {},
   "outputs": [],
   "source": [
    "import cv2\n",
    "import matplotlib.pyplot as plt"
   ]
  },
  {
   "cell_type": "code",
   "execution_count": null,
   "metadata": {},
   "outputs": [],
   "source": []
  },
  {
   "cell_type": "markdown",
   "metadata": {},
   "source": [
    "In this block, you read the folder names for training and validation. You also set the `batch_size` here. Note that you set the batch size in such a way that you are able to use the GPU in full capacity. You keep increasing the batch size until the machine throws an error."
   ]
  },
  {
   "cell_type": "code",
   "execution_count": 52,
   "metadata": {},
   "outputs": [],
   "source": [
    "train_doc = np.random.permutation(open('/datasets/Project_data/train.csv').readlines())\n",
    "val_doc = np.random.permutation(open('/datasets/Project_data/val.csv').readlines())\n"
   ]
  },
  {
   "cell_type": "code",
   "execution_count": 53,
   "metadata": {},
   "outputs": [
    {
     "name": "stdout",
     "output_type": "stream",
     "text": [
      "Train len  : 663\n",
      "Val len  : 100\n"
     ]
    }
   ],
   "source": [
    "print('Train len  :' ,len(train_doc))\n",
    "print('Val len  :' ,len(val_doc))"
   ]
  },
  {
   "cell_type": "code",
   "execution_count": 54,
   "metadata": {},
   "outputs": [],
   "source": [
    "batch_size = 51"
   ]
  },
  {
   "cell_type": "markdown",
   "metadata": {},
   "source": [
    "## Generator\n",
    "This is one of the most important part of the code. The overall structure of the generator has been given. In the generator, you are going to preprocess the images as you have images of 2 different dimensions as well as create a batch of video frames. You have to experiment with `img_idx`, `y`,`z` and normalization such that you get high accuracy."
   ]
  },
  {
   "cell_type": "code",
   "execution_count": 55,
   "metadata": {},
   "outputs": [],
   "source": [
    "x = 30 # number of frames\n",
    "y = 120 # image width\n",
    "z = 120 # image height\n",
    "\n",
    "def generator(source_path, folder_list, batch_size):\n",
    "    print( 'Source path = ', source_path, '; batch size =', batch_size)\n",
    "    img_idx = [x for x in range(0,x)] #create a list of image numbers you want to use for a particular video\n",
    "    while True:\n",
    "        t = np.random.permutation(folder_list)\n",
    "        num_batches = len(folder_list)//batch_size # calculate the number of batches\n",
    "        for batch in range(num_batches): # we iterate over the number of batches\n",
    "            batch_data = np.zeros((batch_size,x,y,z,3)) # x is the number of images you use for each video, (y,z) is the final size of the input images and 3 is the number of channels RGB\n",
    "            batch_labels = np.zeros((batch_size,5)) # batch_labels is the one hot representation of the output\n",
    "            for folder in range(batch_size): # iterate over the batch_size\n",
    "                imgs = os.listdir(source_path+'/'+ t[folder + (batch*batch_size)].split(';')[0]) # read all the images in the folder\n",
    "                for idx,item in enumerate(img_idx): #  Iterate iver the frames/images of a folder to read them in\n",
    "                    image = imread(source_path+'/'+ t[folder + (batch*batch_size)].strip().split(';')[0]+'/'+imgs[item]).astype(np.float32)\n",
    "                    \n",
    "                    #crop the images and resize them. Note that the images are of 2 different shape \n",
    "                    #and the conv3D will throw error if the inputs in a batch have different shapes\n",
    "                    temp = resize(image, (y,z))\n",
    "                    temp = temp/127.5-1 #Normalize data\n",
    "                    \n",
    "                    batch_data[folder,idx,:,:,0] = (temp[:,:,0]) #normalise and feed in the image\n",
    "                    batch_data[folder,idx,:,:,1] = (temp[:,:,1]) #normalise and feed in the image\n",
    "                    batch_data[folder,idx,:,:,2] = (temp[:,:,2]) #normalise and feed in the image\n",
    "                    \n",
    "                batch_labels[folder, int(t[folder + (batch*batch_size)].strip().split(';')[2])] = 1\n",
    "            yield batch_data, batch_labels #you yield the batch_data and the batch_labels, remember what does yield do\n",
    "\n",
    "        \n",
    "        # write the code for the remaining data points which are left after full batches\n",
    "        if (len(folder_list) != batch_size*num_batches):\n",
    "            print(\"Batch: \",num_batches+1,\"Index:\", batch_size)\n",
    "            batch_size = len(folder_list) - (batch_size*num_batches)\n",
    "            batch_data = np.zeros((batch_size,x,y,z,3)) # x is the number of images you use for each video, (y,z) is the final size of the input images and 3 is the number of channels RGB\n",
    "            batch_labels = np.zeros((batch_size,5)) # batch_labels is the one hot representation of the output\n",
    "            for folder in range(batch_size): # iterate over the batch_size\n",
    "                imgs = os.listdir(source_path+'/'+ t[folder + (batch*batch_size)].split(';')[0]) # read all the images in the folder\n",
    "                for idx,item in enumerate(img_idx): #  Iterate iver the frames/images of a folder to read them in\n",
    "                    image = imread(source_path+'/'+ t[folder + (batch*batch_size)].strip().split(';')[0]+'/'+imgs[item]).astype(np.float32)\n",
    "                    \n",
    "                    #crop the images and resize them. Note that the images are of 2 different shape \n",
    "                    #and the conv3D will throw error if the inputs in a batch have different shapes\n",
    "                    temp = resize(image,(y,z))\n",
    "                    temp = temp/127.5-1 #Normalize data\n",
    "                    \n",
    "                    batch_data[folder,idx,:,:,0] = (temp[:,:,0])\n",
    "                    batch_data[folder,idx,:,:,1] = (temp[:,:,1])\n",
    "                    batch_data[folder,idx,:,:,2] = (temp[:,:,2])\n",
    "                   \n",
    "                batch_labels[folder, int(t[folder + (batch*batch_size)].strip().split(';')[2])] = 1\n",
    "            yield batch_data, batch_labels"
   ]
  },
  {
   "cell_type": "markdown",
   "metadata": {},
   "source": [
    "Note here that a video is represented above in the generator as (number of images, height, width, number of channels). Take this into consideration while creating the model architecture."
   ]
  },
  {
   "cell_type": "code",
   "execution_count": 56,
   "metadata": {},
   "outputs": [
    {
     "name": "stdout",
     "output_type": "stream",
     "text": [
      "# training sequences = 663\n",
      "# validation sequences = 100\n",
      "# epochs = 20\n"
     ]
    }
   ],
   "source": [
    "curr_dt_time = datetime.datetime.now()\n",
    "train_path = '/datasets/Project_data/train'\n",
    "val_path = '/datasets/Project_data/val'\n",
    "num_train_sequences = len(train_doc)\n",
    "print('# training sequences =', num_train_sequences)\n",
    "num_val_sequences = len(val_doc)\n",
    "print('# validation sequences =', num_val_sequences)\n",
    "num_epochs = 20\n",
    "print ('# epochs =', num_epochs)"
   ]
  },
  {
   "cell_type": "markdown",
   "metadata": {},
   "source": [
    "## Model\n",
    "Here you make the model using different functionalities that Keras provides. Remember to use `Conv3D` and `MaxPooling3D` and not `Conv2D` and `Maxpooling2D` for a 3D convolution model. You would want to use `TimeDistributed` while building a Conv2D + RNN model. Also remember that the last layer is the softmax. Design the network in such a way that the model is able to give good accuracy on the least number of parameters so that it can fit in the memory of the webcam."
   ]
  },
  {
   "cell_type": "code",
   "execution_count": 57,
   "metadata": {},
   "outputs": [],
   "source": [
    "from keras.models import Sequential,Model\n",
    "from keras.layers import Dense,Conv3D,GRU,Flatten,TimeDistributed,BatchNormalization,Activation\n",
    "from keras.layers.convolutional  import Conv3D,Conv2D,MaxPooling3D,MaxPooling2D\n",
    "from keras.layers.recurrent import LSTM\n",
    "\n",
    "from keras.callbacks import ModelCheckpoint, ReduceLROnPlateau, EarlyStopping\n",
    "from keras import optimizers\n",
    "from keras.layers import Dropout\n",
    "\n",
    "#model a\n",
    "model_a = Sequential()\n",
    "\n",
    "model_a.add(Conv3D(8, #number of filters \n",
    "                 kernel_size=(3,3,3), \n",
    "                 input_shape=(30, 120, 120, 3),\n",
    "                 padding='same'))\n",
    "model_a.add(BatchNormalization())\n",
    "model_a.add(Activation('relu'))\n",
    "\n",
    "model_a.add(MaxPooling3D(pool_size=(2,2,2)))\n",
    "\n",
    "model_a.add(Conv3D(16, #Number of filters, \n",
    "                 kernel_size=(3,3,3), \n",
    "                 padding='same'))\n",
    "model_a.add(BatchNormalization())\n",
    "model_a.add(Activation('relu'))\n",
    "\n",
    "model_a.add(MaxPooling3D(pool_size=(2,2,2)))\n",
    "\n",
    "model_a.add(Conv3D(32, #Number of filters \n",
    "                 kernel_size=(1,3,3), \n",
    "                 padding='same'))\n",
    "model_a.add(BatchNormalization())\n",
    "model_a.add(Activation('relu'))\n",
    "\n",
    "model_a.add(MaxPooling3D(pool_size=(2,2,2)))\n",
    "\n",
    "model_a.add(Conv3D(64, #Number pf filters \n",
    "                 kernel_size=(1,3,3), \n",
    "                 padding='same'))\n",
    "model_a.add(BatchNormalization())\n",
    "model_a.add(Activation('relu'))\n",
    "\n",
    "model_a.add(MaxPooling3D(pool_size=(2,2,2)))\n",
    "\n",
    "#Flatten Layers\n",
    "model_a.add(Flatten())\n",
    "\n",
    "model_a.add(Dense(1000, activation='relu'))\n",
    "model_a.add(Dropout(0.5))\n",
    "\n",
    "model_a.add(Dense(500, activation='relu'))\n",
    "model_a.add(Dropout(0.5))\n",
    "\n",
    "#softmax layer\n",
    "model_a.add(Dense(5, activation='softmax'))\n"
   ]
  },
  {
   "cell_type": "markdown",
   "metadata": {},
   "source": [
    "Now that you have written the model, the next step is to `compile` the model. When you print the `summary` of the model, you'll see the total number of parameters you have to train."
   ]
  },
  {
   "cell_type": "code",
   "execution_count": 58,
   "metadata": {
    "scrolled": true
   },
   "outputs": [
    {
     "name": "stdout",
     "output_type": "stream",
     "text": [
      "Model: \"sequential_3\"\n",
      "_________________________________________________________________\n",
      "Layer (type)                 Output Shape              Param #   \n",
      "=================================================================\n",
      "conv3d_12 (Conv3D)           (None, 30, 120, 120, 8)   656       \n",
      "_________________________________________________________________\n",
      "batch_normalization_12 (Batc (None, 30, 120, 120, 8)   32        \n",
      "_________________________________________________________________\n",
      "activation_18 (Activation)   (None, 30, 120, 120, 8)   0         \n",
      "_________________________________________________________________\n",
      "max_pooling3d_6 (MaxPooling3 (None, 15, 60, 60, 8)     0         \n",
      "_________________________________________________________________\n",
      "conv3d_13 (Conv3D)           (None, 15, 60, 60, 16)    3472      \n",
      "_________________________________________________________________\n",
      "batch_normalization_13 (Batc (None, 15, 60, 60, 16)    64        \n",
      "_________________________________________________________________\n",
      "activation_19 (Activation)   (None, 15, 60, 60, 16)    0         \n",
      "_________________________________________________________________\n",
      "max_pooling3d_7 (MaxPooling3 (None, 7, 30, 30, 16)     0         \n",
      "_________________________________________________________________\n",
      "conv3d_14 (Conv3D)           (None, 7, 30, 30, 32)     4640      \n",
      "_________________________________________________________________\n",
      "batch_normalization_14 (Batc (None, 7, 30, 30, 32)     128       \n",
      "_________________________________________________________________\n",
      "activation_20 (Activation)   (None, 7, 30, 30, 32)     0         \n",
      "_________________________________________________________________\n",
      "max_pooling3d_8 (MaxPooling3 (None, 3, 15, 15, 32)     0         \n",
      "_________________________________________________________________\n",
      "conv3d_15 (Conv3D)           (None, 3, 15, 15, 64)     18496     \n",
      "_________________________________________________________________\n",
      "batch_normalization_15 (Batc (None, 3, 15, 15, 64)     256       \n",
      "_________________________________________________________________\n",
      "activation_21 (Activation)   (None, 3, 15, 15, 64)     0         \n",
      "_________________________________________________________________\n",
      "max_pooling3d_9 (MaxPooling3 (None, 1, 7, 7, 64)       0         \n",
      "_________________________________________________________________\n",
      "flatten_3 (Flatten)          (None, 3136)              0         \n",
      "_________________________________________________________________\n",
      "dense_6 (Dense)              (None, 1000)              3137000   \n",
      "_________________________________________________________________\n",
      "dropout_9 (Dropout)          (None, 1000)              0         \n",
      "_________________________________________________________________\n",
      "dense_7 (Dense)              (None, 500)               500500    \n",
      "_________________________________________________________________\n",
      "dropout_10 (Dropout)         (None, 500)               0         \n",
      "_________________________________________________________________\n",
      "dense_8 (Dense)              (None, 5)                 2505      \n",
      "=================================================================\n",
      "Total params: 3,667,749\n",
      "Trainable params: 3,667,509\n",
      "Non-trainable params: 240\n",
      "_________________________________________________________________\n",
      "None\n"
     ]
    }
   ],
   "source": [
    "optimiser = optimizers.Adam(lr=0.001)\n",
    "model_a.compile(optimizer=optimiser, loss='categorical_crossentropy', metrics=['categorical_accuracy'])\n",
    "print (model_a.summary())"
   ]
  },
  {
   "cell_type": "markdown",
   "metadata": {},
   "source": [
    "Let us create the `train_generator` and the `val_generator` which will be used in `.fit_generator`."
   ]
  },
  {
   "cell_type": "code",
   "execution_count": 59,
   "metadata": {},
   "outputs": [],
   "source": [
    "train_generator = generator(train_path, train_doc, batch_size)\n",
    "val_generator = generator(val_path, val_doc, batch_size)\n"
   ]
  },
  {
   "cell_type": "code",
   "execution_count": 60,
   "metadata": {},
   "outputs": [
    {
     "name": "stdout",
     "output_type": "stream",
     "text": [
      "WARNING:tensorflow:`period` argument is deprecated. Please use `save_freq` to specify the frequency in number of batches seen.\n",
      "WARNING:tensorflow:`epsilon` argument is deprecated and will be removed, use `min_delta` instead.\n"
     ]
    }
   ],
   "source": [
    "model_name = 'model_init' + '_' + str(curr_dt_time).replace(' ','').replace(':','_') + '/'\n",
    "    \n",
    "if not os.path.exists(model_name):\n",
    "    os.mkdir(model_name)\n",
    "        \n",
    "filepath = model_name + 'model-{epoch:05d}-{loss:.5f}-{categorical_accuracy:.5f}-{val_loss:.5f}-{val_categorical_accuracy:.5f}.h5'\n",
    "\n",
    "checkpoint = ModelCheckpoint(filepath, monitor='val_loss', verbose=1, save_best_only=False, save_weights_only=False, mode='auto', period=1)\n",
    "\n",
    "LR = ReduceLROnPlateau(monitor = \"val_loss\", factor = 0.1, patience = 10,\n",
    "  verbose = 0, mode = \"auto\", epsilon = 1e-04, cooldown = 0,\n",
    "  min_lr = 0)\n",
    "callbacks_list = [checkpoint, LR]"
   ]
  },
  {
   "cell_type": "markdown",
   "metadata": {},
   "source": [
    "The `steps_per_epoch` and `validation_steps` are used by `fit_generator` to decide the number of next() calls it need to make."
   ]
  },
  {
   "cell_type": "code",
   "execution_count": 61,
   "metadata": {},
   "outputs": [
    {
     "name": "stdout",
     "output_type": "stream",
     "text": [
      "validation_steps :  2\n"
     ]
    }
   ],
   "source": [
    "if (num_train_sequences%batch_size) == 0:\n",
    "    steps_per_epoch = int(num_train_sequences/batch_size)\n",
    "else:\n",
    "    steps_per_epoch = (num_train_sequences//batch_size) + 1\n",
    "\n",
    "if (num_val_sequences%batch_size) == 0:\n",
    "    validation_steps = int(num_val_sequences/batch_size)\n",
    "else:\n",
    "    validation_steps = (num_val_sequences//batch_size) + 1\n",
    "print('validation_steps : ',validation_steps)"
   ]
  },
  {
   "cell_type": "markdown",
   "metadata": {},
   "source": [
    "Let us now fit the model. This will start training the model and with the help of the checkpoints, you'll be able to save the model at the end of each epoch."
   ]
  },
  {
   "cell_type": "code",
   "execution_count": 62,
   "metadata": {},
   "outputs": [
    {
     "name": "stdout",
     "output_type": "stream",
     "text": [
      "Source path =  /datasets/Project_data/train ; batch size = 51\n",
      "Epoch 1/20\n",
      "13/13 [==============================] - ETA: 0s - loss: 5.2040 - categorical_accuracy: 0.1840Source path =  /datasets/Project_data/val ; batch size = 51\n",
      "Batch:  2 Index: 51\n",
      "\n",
      "Epoch 00001: saving model to model_init_2021-06-2216_54_02.822907/model-00001-5.20401-0.18401-1.60736-0.22000.h5\n",
      "13/13 [==============================] - 144s 11s/step - loss: 5.2040 - categorical_accuracy: 0.1840 - val_loss: 1.6074 - val_categorical_accuracy: 0.2200\n",
      "Epoch 2/20\n",
      "13/13 [==============================] - ETA: 0s - loss: 2.0903 - categorical_accuracy: 0.1885Batch:  3 Index: 49\n",
      "\n",
      "Epoch 00002: saving model to model_init_2021-06-2216_54_02.822907/model-00002-2.09031-0.18854-1.60660-0.21569.h5\n",
      "13/13 [==============================] - 123s 9s/step - loss: 2.0903 - categorical_accuracy: 0.1885 - val_loss: 1.6066 - val_categorical_accuracy: 0.2157\n",
      "Epoch 3/20\n",
      "13/13 [==============================] - ETA: 0s - loss: 1.6783 - categorical_accuracy: 0.2097\n",
      "Epoch 00003: saving model to model_init_2021-06-2216_54_02.822907/model-00003-1.67832-0.20965-1.60337-0.25000.h5\n",
      "13/13 [==============================] - 113s 9s/step - loss: 1.6783 - categorical_accuracy: 0.2097 - val_loss: 1.6034 - val_categorical_accuracy: 0.2500\n",
      "Epoch 4/20\n",
      "13/13 [==============================] - ETA: 0s - loss: 1.6632 - categorical_accuracy: 0.2036\n",
      "Epoch 00004: saving model to model_init_2021-06-2216_54_02.822907/model-00004-1.66318-0.20362-1.61112-0.25000.h5\n",
      "13/13 [==============================] - 114s 9s/step - loss: 1.6632 - categorical_accuracy: 0.2036 - val_loss: 1.6111 - val_categorical_accuracy: 0.2500\n",
      "Epoch 5/20\n",
      "13/13 [==============================] - ETA: 0s - loss: 1.6438 - categorical_accuracy: 0.1825\n",
      "Epoch 00005: saving model to model_init_2021-06-2216_54_02.822907/model-00005-1.64377-0.18250-1.62044-0.00000.h5\n",
      "13/13 [==============================] - 112s 9s/step - loss: 1.6438 - categorical_accuracy: 0.1825 - val_loss: 1.6204 - val_categorical_accuracy: 0.0000e+00\n",
      "Epoch 6/20\n",
      "13/13 [==============================] - ETA: 0s - loss: 1.6246 - categorical_accuracy: 0.2021\n",
      "Epoch 00006: saving model to model_init_2021-06-2216_54_02.822907/model-00006-1.62463-0.20211-1.60034-0.25000.h5\n",
      "13/13 [==============================] - 113s 9s/step - loss: 1.6246 - categorical_accuracy: 0.2021 - val_loss: 1.6003 - val_categorical_accuracy: 0.2500\n",
      "Epoch 7/20\n",
      "13/13 [==============================] - ETA: 0s - loss: 1.6154 - categorical_accuracy: 0.2308\n",
      "Epoch 00007: saving model to model_init_2021-06-2216_54_02.822907/model-00007-1.61545-0.23077-1.60833-0.00000.h5\n",
      "13/13 [==============================] - 113s 9s/step - loss: 1.6154 - categorical_accuracy: 0.2308 - val_loss: 1.6083 - val_categorical_accuracy: 0.0000e+00\n",
      "Epoch 8/20\n",
      "13/13 [==============================] - ETA: 0s - loss: 1.6372 - categorical_accuracy: 0.1885\n",
      "Epoch 00008: saving model to model_init_2021-06-2216_54_02.822907/model-00008-1.63719-0.18854-1.61123-0.00000.h5\n",
      "13/13 [==============================] - 114s 9s/step - loss: 1.6372 - categorical_accuracy: 0.1885 - val_loss: 1.6112 - val_categorical_accuracy: 0.0000e+00\n",
      "Epoch 9/20\n",
      "13/13 [==============================] - ETA: 0s - loss: 1.6166 - categorical_accuracy: 0.1870\n",
      "Epoch 00009: saving model to model_init_2021-06-2216_54_02.822907/model-00009-1.61663-0.18703-1.61304-0.00000.h5\n",
      "13/13 [==============================] - 112s 9s/step - loss: 1.6166 - categorical_accuracy: 0.1870 - val_loss: 1.6130 - val_categorical_accuracy: 0.0000e+00\n",
      "Epoch 10/20\n",
      "13/13 [==============================] - ETA: 0s - loss: 1.6090 - categorical_accuracy: 0.2066\n",
      "Epoch 00010: saving model to model_init_2021-06-2216_54_02.822907/model-00010-1.60899-0.20664-1.60387-0.25000.h5\n",
      "13/13 [==============================] - 113s 9s/step - loss: 1.6090 - categorical_accuracy: 0.2066 - val_loss: 1.6039 - val_categorical_accuracy: 0.2500\n",
      "Epoch 11/20\n",
      "13/13 [==============================] - ETA: 0s - loss: 1.6077 - categorical_accuracy: 0.2112\n",
      "Epoch 00011: saving model to model_init_2021-06-2216_54_02.822907/model-00011-1.60769-0.21116-1.60570-0.25000.h5\n",
      "13/13 [==============================] - 113s 9s/step - loss: 1.6077 - categorical_accuracy: 0.2112 - val_loss: 1.6057 - val_categorical_accuracy: 0.2500\n",
      "Epoch 12/20\n",
      "13/13 [==============================] - ETA: 0s - loss: 1.6153 - categorical_accuracy: 0.1885\n",
      "Epoch 00012: saving model to model_init_2021-06-2216_54_02.822907/model-00012-1.61533-0.18854-1.60173-0.25000.h5\n",
      "13/13 [==============================] - 113s 9s/step - loss: 1.6153 - categorical_accuracy: 0.1885 - val_loss: 1.6017 - val_categorical_accuracy: 0.2500\n",
      "Epoch 13/20\n",
      "13/13 [==============================] - ETA: 0s - loss: 1.6093 - categorical_accuracy: 0.2112\n",
      "Epoch 00013: saving model to model_init_2021-06-2216_54_02.822907/model-00013-1.60929-0.21116-1.60939-0.25000.h5\n",
      "13/13 [==============================] - 113s 9s/step - loss: 1.6093 - categorical_accuracy: 0.2112 - val_loss: 1.6094 - val_categorical_accuracy: 0.2500\n",
      "Epoch 14/20\n",
      "13/13 [==============================] - ETA: 0s - loss: 1.6089 - categorical_accuracy: 0.2127\n",
      "Epoch 00014: saving model to model_init_2021-06-2216_54_02.822907/model-00014-1.60887-0.21267-1.60973-0.00000.h5\n",
      "13/13 [==============================] - 112s 9s/step - loss: 1.6089 - categorical_accuracy: 0.2127 - val_loss: 1.6097 - val_categorical_accuracy: 0.0000e+00\n",
      "Epoch 15/20\n",
      "13/13 [==============================] - ETA: 0s - loss: 1.6091 - categorical_accuracy: 0.2066\n",
      "Epoch 00015: saving model to model_init_2021-06-2216_54_02.822907/model-00015-1.60906-0.20664-1.60716-0.25000.h5\n",
      "13/13 [==============================] - 113s 9s/step - loss: 1.6091 - categorical_accuracy: 0.2066 - val_loss: 1.6072 - val_categorical_accuracy: 0.2500\n",
      "Epoch 16/20\n",
      "13/13 [==============================] - ETA: 0s - loss: 1.6088 - categorical_accuracy: 0.2066\n",
      "Epoch 00016: saving model to model_init_2021-06-2216_54_02.822907/model-00016-1.60884-0.20664-1.63241-0.00000.h5\n",
      "13/13 [==============================] - 114s 9s/step - loss: 1.6088 - categorical_accuracy: 0.2066 - val_loss: 1.6324 - val_categorical_accuracy: 0.0000e+00\n",
      "Epoch 17/20\n",
      "13/13 [==============================] - ETA: 0s - loss: 1.6090 - categorical_accuracy: 0.1900\n",
      "Epoch 00017: saving model to model_init_2021-06-2216_54_02.822907/model-00017-1.60903-0.19005-1.61286-0.25000.h5\n",
      "13/13 [==============================] - 115s 9s/step - loss: 1.6090 - categorical_accuracy: 0.1900 - val_loss: 1.6129 - val_categorical_accuracy: 0.2500\n",
      "Epoch 18/20\n",
      "13/13 [==============================] - ETA: 0s - loss: 1.6087 - categorical_accuracy: 0.2127\n",
      "Epoch 00018: saving model to model_init_2021-06-2216_54_02.822907/model-00018-1.60873-0.21267-1.61538-0.25000.h5\n",
      "13/13 [==============================] - 112s 9s/step - loss: 1.6087 - categorical_accuracy: 0.2127 - val_loss: 1.6154 - val_categorical_accuracy: 0.2500\n",
      "Epoch 19/20\n",
      "13/13 [==============================] - ETA: 0s - loss: 1.6085 - categorical_accuracy: 0.2081\n",
      "Epoch 00019: saving model to model_init_2021-06-2216_54_02.822907/model-00019-1.60853-0.20814-1.60779-0.00000.h5\n",
      "13/13 [==============================] - 112s 9s/step - loss: 1.6085 - categorical_accuracy: 0.2081 - val_loss: 1.6078 - val_categorical_accuracy: 0.0000e+00\n",
      "Epoch 20/20\n",
      "13/13 [==============================] - ETA: 0s - loss: 1.6086 - categorical_accuracy: 0.2232\n",
      "Epoch 00020: saving model to model_init_2021-06-2216_54_02.822907/model-00020-1.60860-0.22323-1.59054-0.00000.h5\n",
      "13/13 [==============================] - 113s 9s/step - loss: 1.6086 - categorical_accuracy: 0.2232 - val_loss: 1.5905 - val_categorical_accuracy: 0.0000e+00\n"
     ]
    },
    {
     "data": {
      "text/plain": [
       "<tensorflow.python.keras.callbacks.History at 0x7f2d712b2668>"
      ]
     },
     "execution_count": 62,
     "metadata": {},
     "output_type": "execute_result"
    }
   ],
   "source": [
    "model_a.fit_generator(train_generator, steps_per_epoch=steps_per_epoch, epochs=num_epochs, verbose=1, \n",
    "                    callbacks=callbacks_list, validation_data=val_generator, \n",
    "                    validation_steps=validation_steps, class_weight=None, workers=1, initial_epoch=0)"
   ]
  },
  {
   "cell_type": "code",
   "execution_count": null,
   "metadata": {},
   "outputs": [],
   "source": []
  },
  {
   "cell_type": "code",
   "execution_count": null,
   "metadata": {},
   "outputs": [],
   "source": []
  },
  {
   "cell_type": "code",
   "execution_count": null,
   "metadata": {},
   "outputs": [],
   "source": []
  }
 ],
 "metadata": {
  "kernelspec": {
   "display_name": "Python 3",
   "language": "python",
   "name": "python3"
  },
  "language_info": {
   "codemirror_mode": {
    "name": "ipython",
    "version": 3
   },
   "file_extension": ".py",
   "mimetype": "text/x-python",
   "name": "python",
   "nbconvert_exporter": "python",
   "pygments_lexer": "ipython3",
   "version": "3.6.9"
  }
 },
 "nbformat": 4,
 "nbformat_minor": 4
}
