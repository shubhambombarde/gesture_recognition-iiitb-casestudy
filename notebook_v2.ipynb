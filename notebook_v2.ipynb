{
 "cells": [
  {
   "cell_type": "markdown",
   "metadata": {},
   "source": [
    "# Gesture Recognition\n",
    "In this group project, you are going to build a 3D Conv model that will be able to predict the 5 gestures correctly. Please import the following libraries to get started."
   ]
  },
  {
   "cell_type": "code",
   "execution_count": 1,
   "metadata": {},
   "outputs": [
    {
     "name": "stdout",
     "output_type": "stream",
     "text": [
      "Fri Jun 25 15:44:44 2021       \n",
      "+-----------------------------------------------------------------------------+\n",
      "| NVIDIA-SMI 460.73.01    Driver Version: 460.73.01    CUDA Version: 11.2     |\n",
      "|-------------------------------+----------------------+----------------------+\n",
      "| GPU  Name        Persistence-M| Bus-Id        Disp.A | Volatile Uncorr. ECC |\n",
      "| Fan  Temp  Perf  Pwr:Usage/Cap|         Memory-Usage | GPU-Util  Compute M. |\n",
      "|                               |                      |               MIG M. |\n",
      "|===============================+======================+======================|\n",
      "|   0  Quadro RTX 5000     Off  | 00000000:1E:00.0 Off |                  Off |\n",
      "| 33%   34C    P0    58W / 230W |      6MiB / 16125MiB |      0%      Default |\n",
      "|                               |                      |                  N/A |\n",
      "+-------------------------------+----------------------+----------------------+\n",
      "                                                                               \n",
      "+-----------------------------------------------------------------------------+\n",
      "| Processes:                                                                  |\n",
      "|  GPU   GI   CI        PID   Type   Process name                  GPU Memory |\n",
      "|        ID   ID                                                   Usage      |\n",
      "|=============================================================================|\n",
      "+-----------------------------------------------------------------------------+\n"
     ]
    }
   ],
   "source": [
    "!nvidia-smi"
   ]
  },
  {
   "cell_type": "code",
   "execution_count": 2,
   "metadata": {},
   "outputs": [],
   "source": [
    "import numpy as np\n",
    "import os\n",
    "# from scipy.misc import  imresize\n",
    "from matplotlib.pyplot import imread\n",
    "from skimage.transform import resize\n",
    "\n",
    "\n",
    "import datetime\n",
    "import os"
   ]
  },
  {
   "cell_type": "markdown",
   "metadata": {},
   "source": [
    "We set the random seed so that the results don't vary drastically."
   ]
  },
  {
   "cell_type": "code",
   "execution_count": 3,
   "metadata": {},
   "outputs": [
    {
     "name": "stdout",
     "output_type": "stream",
     "text": [
      "Requirement already satisfied: keras in /usr/local/lib/python3.6/dist-packages (2.4.3)\n",
      "Requirement already satisfied: pyyaml in /usr/local/lib/python3.6/dist-packages (from keras) (5.3.1)\n",
      "Requirement already satisfied: scipy>=0.14 in /usr/local/lib/python3.6/dist-packages (from keras) (1.4.1)\n",
      "Requirement already satisfied: numpy>=1.9.1 in /usr/local/lib/python3.6/dist-packages (from keras) (1.17.3)\n",
      "Requirement already satisfied: h5py in /usr/local/lib/python3.6/dist-packages (from keras) (2.10.0)\n",
      "Requirement already satisfied: six in /usr/local/lib/python3.6/dist-packages (from h5py->keras) (1.15.0)\n",
      "\u001b[33mWARNING: You are using pip version 20.2.4; however, version 21.1.2 is available.\n",
      "You should consider upgrading via the '/usr/bin/python -m pip install --upgrade pip' command.\u001b[0m\n"
     ]
    }
   ],
   "source": [
    "np.random.seed(30)\n",
    "import random as rn\n",
    "rn.seed(30)\n",
    "!pip install keras\n",
    "from keras import backend as K\n",
    "import keras\n",
    "import tensorflow as tf\n",
    "tf.random.set_seed(30)"
   ]
  },
  {
   "cell_type": "code",
   "execution_count": 4,
   "metadata": {},
   "outputs": [],
   "source": [
    "import cv2\n",
    "import matplotlib.pyplot as plt"
   ]
  },
  {
   "cell_type": "code",
   "execution_count": null,
   "metadata": {},
   "outputs": [],
   "source": []
  },
  {
   "cell_type": "markdown",
   "metadata": {},
   "source": [
    "In this block, you read the folder names for training and validation. You also set the `batch_size` here. Note that you set the batch size in such a way that you are able to use the GPU in full capacity. You keep increasing the batch size until the machine throws an error."
   ]
  },
  {
   "cell_type": "code",
   "execution_count": 5,
   "metadata": {},
   "outputs": [],
   "source": [
    "train_doc = np.random.permutation(open('/datasets/Project_data/train.csv').readlines())\n",
    "val_doc = np.random.permutation(open('/datasets/Project_data/val.csv').readlines())\n"
   ]
  },
  {
   "cell_type": "code",
   "execution_count": 6,
   "metadata": {},
   "outputs": [
    {
     "name": "stdout",
     "output_type": "stream",
     "text": [
      "Train len  : 663\n",
      "Val len  : 100\n"
     ]
    }
   ],
   "source": [
    "print('Train len  :' ,len(train_doc))\n",
    "print('Val len  :' ,len(val_doc))"
   ]
  },
  {
   "cell_type": "code",
   "execution_count": 7,
   "metadata": {},
   "outputs": [],
   "source": [
    "batch_size = 51"
   ]
  },
  {
   "cell_type": "markdown",
   "metadata": {},
   "source": [
    "## Generator\n",
    "This is one of the most important part of the code. The overall structure of the generator has been given. In the generator, you are going to preprocess the images as you have images of 2 different dimensions as well as create a batch of video frames. You have to experiment with `img_idx`, `y`,`z` and normalization such that you get high accuracy."
   ]
  },
  {
   "cell_type": "code",
   "execution_count": 8,
   "metadata": {},
   "outputs": [],
   "source": [
    "x = 30 # number of frames\n",
    "y = 120 # image width\n",
    "z = 120 # image height\n",
    "\n",
    "def generator(source_path, folder_list, batch_size):\n",
    "    print( 'Source path = ', source_path, '; batch size =', batch_size)\n",
    "    img_idx = [x for x in range(0,x)] #create a list of image numbers you want to use for a particular video\n",
    "    while True:\n",
    "        t = np.random.permutation(folder_list)\n",
    "        num_batches = len(folder_list)//batch_size # calculate the number of batches\n",
    "        for batch in range(num_batches): # we iterate over the number of batches\n",
    "            batch_data = np.zeros((batch_size,x,y,z,3)) # x is the number of images you use for each video, (y,z) is the final size of the input images and 3 is the number of channels RGB\n",
    "            batch_labels = np.zeros((batch_size,5)) # batch_labels is the one hot representation of the output\n",
    "            for folder in range(batch_size): # iterate over the batch_size\n",
    "                imgs = os.listdir(source_path+'/'+ t[folder + (batch*batch_size)].split(';')[0]) # read all the images in the folder\n",
    "                for idx,item in enumerate(img_idx): #  Iterate iver the frames/images of a folder to read them in\n",
    "                    image = imread(source_path+'/'+ t[folder + (batch*batch_size)].strip().split(';')[0]+'/'+imgs[item]).astype(np.float32)\n",
    "                    \n",
    "                    #crop the images and resize them. Note that the images are of 2 different shape \n",
    "                    #and the conv3D will throw error if the inputs in a batch have different shapes\n",
    "                    temp = resize(image, (y,z))\n",
    "                    temp = temp/127.5-1 #Normalize data\n",
    "                    \n",
    "                    batch_data[folder,idx,:,:,0] = (temp[:,:,0]) #normalise and feed in the image\n",
    "                    batch_data[folder,idx,:,:,1] = (temp[:,:,1]) #normalise and feed in the image\n",
    "                    batch_data[folder,idx,:,:,2] = (temp[:,:,2]) #normalise and feed in the image\n",
    "                    \n",
    "                batch_labels[folder, int(t[folder + (batch*batch_size)].strip().split(';')[2])] = 1\n",
    "            yield batch_data, batch_labels #you yield the batch_data and the batch_labels, remember what does yield do\n",
    "\n",
    "        \n",
    "        # write the code for the remaining data points which are left after full batches\n",
    "        if (len(folder_list) != batch_size*num_batches):\n",
    "            print(\"Batch: \",num_batches+1,\"Index:\", batch_size)\n",
    "            batch_size = len(folder_list) - (batch_size*num_batches)\n",
    "            batch_data = np.zeros((batch_size,x,y,z,3)) # x is the number of images you use for each video, (y,z) is the final size of the input images and 3 is the number of channels RGB\n",
    "            batch_labels = np.zeros((batch_size,5)) # batch_labels is the one hot representation of the output\n",
    "            for folder in range(batch_size): # iterate over the batch_size\n",
    "                imgs = os.listdir(source_path+'/'+ t[folder + (batch*batch_size)].split(';')[0]) # read all the images in the folder\n",
    "                for idx,item in enumerate(img_idx): #  Iterate iver the frames/images of a folder to read them in\n",
    "                    image = imread(source_path+'/'+ t[folder + (batch*batch_size)].strip().split(';')[0]+'/'+imgs[item]).astype(np.float32)\n",
    "                    \n",
    "                    #crop the images and resize them. Note that the images are of 2 different shape \n",
    "                    #and the conv3D will throw error if the inputs in a batch have different shapes\n",
    "                    temp = resize(image,(y,z))\n",
    "                    temp = temp/127.5-1 #Normalize data\n",
    "                    \n",
    "                    batch_data[folder,idx,:,:,0] = (temp[:,:,0])\n",
    "                    batch_data[folder,idx,:,:,1] = (temp[:,:,1])\n",
    "                    batch_data[folder,idx,:,:,2] = (temp[:,:,2])\n",
    "                   \n",
    "                batch_labels[folder, int(t[folder + (batch*batch_size)].strip().split(';')[2])] = 1\n",
    "            yield batch_data, batch_labels"
   ]
  },
  {
   "cell_type": "markdown",
   "metadata": {},
   "source": [
    "Note here that a video is represented above in the generator as (number of images, height, width, number of channels). Take this into consideration while creating the model architecture."
   ]
  },
  {
   "cell_type": "code",
   "execution_count": 9,
   "metadata": {},
   "outputs": [
    {
     "name": "stdout",
     "output_type": "stream",
     "text": [
      "# training sequences = 663\n",
      "# validation sequences = 100\n",
      "# epochs = 20\n"
     ]
    }
   ],
   "source": [
    "curr_dt_time = datetime.datetime.now()\n",
    "train_path = '/datasets/Project_data/train'\n",
    "val_path = '/datasets/Project_data/val'\n",
    "num_train_sequences = len(train_doc)\n",
    "print('# training sequences =', num_train_sequences)\n",
    "num_val_sequences = len(val_doc)\n",
    "print('# validation sequences =', num_val_sequences)\n",
    "num_epochs = 20\n",
    "print ('# epochs =', num_epochs)"
   ]
  },
  {
   "cell_type": "markdown",
   "metadata": {},
   "source": [
    "## Model\n",
    "Here you make the model using different functionalities that Keras provides. Remember to use `Conv3D` and `MaxPooling3D` and not `Conv2D` and `Maxpooling2D` for a 3D convolution model. You would want to use `TimeDistributed` while building a Conv2D + RNN model. Also remember that the last layer is the softmax. Design the network in such a way that the model is able to give good accuracy on the least number of parameters so that it can fit in the memory of the webcam."
   ]
  },
  {
   "cell_type": "code",
   "execution_count": 10,
   "metadata": {},
   "outputs": [],
   "source": [
    "from keras.models import Sequential,Model\n",
    "from keras.layers import Dense,Conv3D,GRU,Flatten,TimeDistributed,BatchNormalization,Activation\n",
    "from keras.layers.convolutional  import Conv3D,Conv2D,MaxPooling3D,MaxPooling2D\n",
    "from keras.layers.recurrent import LSTM\n",
    "\n",
    "from keras.callbacks import ModelCheckpoint, ReduceLROnPlateau, EarlyStopping\n",
    "from keras import optimizers\n",
    "from keras.layers import Dropout\n",
    "\n",
    "#model a\n",
    "model_a = Sequential()\n",
    "\n",
    "model_a.add(Conv3D(8, #number of filters \n",
    "                 kernel_size=(3,3,3), \n",
    "                 input_shape=(30, 120, 120, 3),\n",
    "                 padding='same'))\n",
    "model_a.add(BatchNormalization())\n",
    "model_a.add(Activation('relu'))\n",
    "\n",
    "model_a.add(MaxPooling3D(pool_size=(2,2,2)))\n",
    "\n",
    "model_a.add(Conv3D(16, #Number of filters, \n",
    "                 kernel_size=(3,3,3), \n",
    "                 padding='same'))\n",
    "model_a.add(BatchNormalization())\n",
    "model_a.add(Activation('relu'))\n",
    "\n",
    "model_a.add(MaxPooling3D(pool_size=(2,2,2)))\n",
    "\n",
    "model_a.add(Conv3D(32, #Number of filters \n",
    "                 kernel_size=(1,3,3), \n",
    "                 padding='same'))\n",
    "model_a.add(BatchNormalization())\n",
    "model_a.add(Activation('relu'))\n",
    "\n",
    "model_a.add(MaxPooling3D(pool_size=(2,2,2)))\n",
    "\n",
    "model_a.add(Conv3D(64, #Number pf filters \n",
    "                 kernel_size=(1,3,3), \n",
    "                 padding='same'))\n",
    "model_a.add(BatchNormalization())\n",
    "model_a.add(Activation('relu'))\n",
    "\n",
    "model_a.add(MaxPooling3D(pool_size=(2,2,2)))\n",
    "\n",
    "#Flatten Layers\n",
    "model_a.add(Flatten())\n",
    "\n",
    "model_a.add(Dense(1000, activation='relu'))\n",
    "model_a.add(Dropout(0.5))\n",
    "\n",
    "model_a.add(Dense(500, activation='relu'))\n",
    "model_a.add(Dropout(0.5))\n",
    "\n",
    "#softmax layer\n",
    "model_a.add(Dense(5, activation='softmax'))\n"
   ]
  },
  {
   "cell_type": "markdown",
   "metadata": {},
   "source": [
    "Now that you have written the model, the next step is to `compile` the model. When you print the `summary` of the model, you'll see the total number of parameters you have to train."
   ]
  },
  {
   "cell_type": "code",
   "execution_count": 11,
   "metadata": {
    "scrolled": true
   },
   "outputs": [
    {
     "name": "stdout",
     "output_type": "stream",
     "text": [
      "Model: \"sequential\"\n",
      "_________________________________________________________________\n",
      "Layer (type)                 Output Shape              Param #   \n",
      "=================================================================\n",
      "conv3d (Conv3D)              (None, 30, 120, 120, 8)   656       \n",
      "_________________________________________________________________\n",
      "batch_normalization (BatchNo (None, 30, 120, 120, 8)   32        \n",
      "_________________________________________________________________\n",
      "activation (Activation)      (None, 30, 120, 120, 8)   0         \n",
      "_________________________________________________________________\n",
      "max_pooling3d (MaxPooling3D) (None, 15, 60, 60, 8)     0         \n",
      "_________________________________________________________________\n",
      "conv3d_1 (Conv3D)            (None, 15, 60, 60, 16)    3472      \n",
      "_________________________________________________________________\n",
      "batch_normalization_1 (Batch (None, 15, 60, 60, 16)    64        \n",
      "_________________________________________________________________\n",
      "activation_1 (Activation)    (None, 15, 60, 60, 16)    0         \n",
      "_________________________________________________________________\n",
      "max_pooling3d_1 (MaxPooling3 (None, 7, 30, 30, 16)     0         \n",
      "_________________________________________________________________\n",
      "conv3d_2 (Conv3D)            (None, 7, 30, 30, 32)     4640      \n",
      "_________________________________________________________________\n",
      "batch_normalization_2 (Batch (None, 7, 30, 30, 32)     128       \n",
      "_________________________________________________________________\n",
      "activation_2 (Activation)    (None, 7, 30, 30, 32)     0         \n",
      "_________________________________________________________________\n",
      "max_pooling3d_2 (MaxPooling3 (None, 3, 15, 15, 32)     0         \n",
      "_________________________________________________________________\n",
      "conv3d_3 (Conv3D)            (None, 3, 15, 15, 64)     18496     \n",
      "_________________________________________________________________\n",
      "batch_normalization_3 (Batch (None, 3, 15, 15, 64)     256       \n",
      "_________________________________________________________________\n",
      "activation_3 (Activation)    (None, 3, 15, 15, 64)     0         \n",
      "_________________________________________________________________\n",
      "max_pooling3d_3 (MaxPooling3 (None, 1, 7, 7, 64)       0         \n",
      "_________________________________________________________________\n",
      "flatten (Flatten)            (None, 3136)              0         \n",
      "_________________________________________________________________\n",
      "dense (Dense)                (None, 1000)              3137000   \n",
      "_________________________________________________________________\n",
      "dropout (Dropout)            (None, 1000)              0         \n",
      "_________________________________________________________________\n",
      "dense_1 (Dense)              (None, 500)               500500    \n",
      "_________________________________________________________________\n",
      "dropout_1 (Dropout)          (None, 500)               0         \n",
      "_________________________________________________________________\n",
      "dense_2 (Dense)              (None, 5)                 2505      \n",
      "=================================================================\n",
      "Total params: 3,667,749\n",
      "Trainable params: 3,667,509\n",
      "Non-trainable params: 240\n",
      "_________________________________________________________________\n",
      "None\n"
     ]
    }
   ],
   "source": [
    "optimiser = optimizers.Adam(lr=0.001)\n",
    "model_a.compile(optimizer=optimiser, loss='categorical_crossentropy', metrics=['categorical_accuracy'])\n",
    "print (model_a.summary())"
   ]
  },
  {
   "cell_type": "markdown",
   "metadata": {},
   "source": [
    "Let us create the `train_generator` and the `val_generator` which will be used in `.fit_generator`."
   ]
  },
  {
   "cell_type": "code",
   "execution_count": 12,
   "metadata": {},
   "outputs": [],
   "source": [
    "train_generator = generator(train_path, train_doc, batch_size)\n",
    "val_generator = generator(val_path, val_doc, batch_size)\n"
   ]
  },
  {
   "cell_type": "code",
   "execution_count": 13,
   "metadata": {},
   "outputs": [
    {
     "name": "stdout",
     "output_type": "stream",
     "text": [
      "WARNING:tensorflow:`period` argument is deprecated. Please use `save_freq` to specify the frequency in number of batches seen.\n",
      "WARNING:tensorflow:`epsilon` argument is deprecated and will be removed, use `min_delta` instead.\n"
     ]
    }
   ],
   "source": [
    "model_name = 'model_init' + '_' + str(curr_dt_time).replace(' ','').replace(':','_') + '/'\n",
    "    \n",
    "if not os.path.exists(model_name):\n",
    "    os.mkdir(model_name)\n",
    "        \n",
    "filepath = model_name + 'model-{epoch:05d}-{loss:.5f}-{categorical_accuracy:.5f}-{val_loss:.5f}-{val_categorical_accuracy:.5f}.h5'\n",
    "\n",
    "checkpoint = ModelCheckpoint(filepath, monitor='val_loss', verbose=1, save_best_only=False, save_weights_only=False, mode='auto', period=1)\n",
    "\n",
    "LR = ReduceLROnPlateau(monitor = \"val_loss\", factor = 0.1, patience = 10,\n",
    "  verbose = 0, mode = \"auto\", epsilon = 1e-04, cooldown = 0,\n",
    "  min_lr = 0)\n",
    "callbacks_list = [checkpoint, LR]"
   ]
  },
  {
   "cell_type": "markdown",
   "metadata": {},
   "source": [
    "The `steps_per_epoch` and `validation_steps` are used by `fit_generator` to decide the number of next() calls it need to make."
   ]
  },
  {
   "cell_type": "code",
   "execution_count": 14,
   "metadata": {},
   "outputs": [
    {
     "name": "stdout",
     "output_type": "stream",
     "text": [
      "validation_steps :  2\n"
     ]
    }
   ],
   "source": [
    "if (num_train_sequences%batch_size) == 0:\n",
    "    steps_per_epoch = int(num_train_sequences/batch_size)\n",
    "else:\n",
    "    steps_per_epoch = (num_train_sequences//batch_size) + 1\n",
    "\n",
    "if (num_val_sequences%batch_size) == 0:\n",
    "    validation_steps = int(num_val_sequences/batch_size)\n",
    "else:\n",
    "    validation_steps = (num_val_sequences//batch_size) + 1\n",
    "print('validation_steps : ',validation_steps)"
   ]
  },
  {
   "cell_type": "markdown",
   "metadata": {},
   "source": [
    "Let us now fit the model. This will start training the model and with the help of the checkpoints, you'll be able to save the model at the end of each epoch."
   ]
  },
  {
   "cell_type": "code",
   "execution_count": 15,
   "metadata": {},
   "outputs": [],
   "source": [
    "# model_a.fit_generator(train_generator, steps_per_epoch=steps_per_epoch, epochs=num_epochs, verbose=1, \n",
    "#                     callbacks=callbacks_list, validation_data=val_generator, \n",
    "#                     validation_steps=validation_steps, class_weight=None, workers=1, initial_epoch=0)"
   ]
  },
  {
   "cell_type": "markdown",
   "metadata": {},
   "source": [
    "# model_b : transforming images to grayscale"
   ]
  },
  {
   "cell_type": "code",
   "execution_count": 16,
   "metadata": {},
   "outputs": [],
   "source": [
    "classes = 5 #left swipe, right swipe, thumbs up, thumbs down, stop\n",
    "channel = 3\n",
    "x = 30 # number of frames\n",
    "y = 120 # image width\n",
    "z = 120 # image height\n",
    "\n",
    "def generator_ex(source_path, folder_list, batch_size):\n",
    "    print( 'Source path = ', source_path, '; batch size =', batch_size)\n",
    "    img_idx = [x for x in range(0,x)] #create a list of image numbers you want to use for a particular video\n",
    "    while True:\n",
    "        t = np.random.permutation(folder_list)\n",
    "        num_batches = len(folder_list)//batch_size # calculate the number of batches\n",
    "        for batch in range(num_batches): # we iterate over the number of batches\n",
    "            batch_data = np.zeros((batch_size,x,y,z,channel)) # x is the number of images you use for each video, (y,z) is the final size of the input images and 3 is the number of channels RGB\n",
    "            batch_labels = np.zeros((batch_size,classes)) # batch_labels is the one hot representation of the output\n",
    "            for folder in range(batch_size): # iterate over the batch_size\n",
    "                imgs = os.listdir(source_path+'/'+ t[folder + (batch*batch_size)].split(';')[0]) # read all the images in the folder\n",
    "                for idx,item in enumerate(img_idx): #  Iterate iver the frames/images of a folder to read them in\n",
    "                    image = imread(source_path+'/'+ t[folder + (batch*batch_size)].strip().split(';')[0]+'/'+imgs[item]).astype(np.float32)\n",
    "                    \n",
    "                    #crop the images and resize them. Note that the images are of 2 different shape \n",
    "                    #and the conv3D will throw error if the inputs in a batch have different shapes\n",
    "                    \n",
    "                    temp = resize(image,(y,z))\n",
    "                    #Converting to gray scale\n",
    "                    temp = temp.mean(axis=-1,keepdims=1) \n",
    "                    temp = temp/127.5-1 #Normalize data\n",
    "                    batch_data[folder,idx] = temp #normalise and feed in the image\n",
    "                    \n",
    "                batch_labels[folder, int(t[folder + (batch*batch_size)].strip().split(';')[2])] = 1\n",
    "                \n",
    "            yield batch_data, batch_labels #you yield the batch_data and the batch_labels, remember what does yield do\n",
    "\n",
    "        \n",
    "        # write the code for the remaining data points which are left after full batches\n",
    "        if (len(folder_list) != batch_size*num_batches):\n",
    "            print(\"Batch: \",num_batches+1,\"Index:\", batch_size)\n",
    "            batch_size = len(folder_list) - (batch_size*num_batches)\n",
    "            batch_data = np.zeros((batch_size,x,y,z,channel)) # x is the number of images you use for each video, (y,z) is the final size of the input images and 3 is the number of channels RGB\n",
    "            batch_labels = np.zeros((batch_size,classes)) # batch_labels is the one hot representation of the output\n",
    "            for folder in range(batch_size): # iterate over the batch_size\n",
    "                imgs = os.listdir(source_path+'/'+ t[folder + (batch*batch_size)].split(';')[0]) # read all the images in the folder\n",
    "                for idx,item in enumerate(img_idx): #  Iterate iver the frames/images of a folder to read them in\n",
    "                    image = imread(source_path+'/'+ t[folder + (batch*batch_size)].strip().split(';')[0]+'/'+imgs[item]).astype(np.float32)\n",
    "                    \n",
    "                    #crop the images and resize them. Note that the images are of 2 different shape \n",
    "                    #and the conv3D will throw error if the inputs in a batch have different shapes\n",
    "                    temp = resize(image,(y,z))\n",
    "                    #Converting to gray scale\n",
    "                    temp = temp.mean(axis=-1,keepdims=1) \n",
    "                    temp = temp/127.5-1 #Normalize data\n",
    "                    \n",
    "                    batch_data[folder,idx] = temp\n",
    "                   \n",
    "                batch_labels[folder, int(t[folder + (batch*batch_size)].strip().split(';')[2])] = 1\n",
    "            yield batch_data, batch_labels"
   ]
  },
  {
   "cell_type": "code",
   "execution_count": 17,
   "metadata": {},
   "outputs": [
    {
     "name": "stdout",
     "output_type": "stream",
     "text": [
      "Model: \"sequential_1\"\n",
      "_________________________________________________________________\n",
      "Layer (type)                 Output Shape              Param #   \n",
      "=================================================================\n",
      "conv3d_4 (Conv3D)            (None, 30, 120, 120, 32)  2624      \n",
      "_________________________________________________________________\n",
      "activation_4 (Activation)    (None, 30, 120, 120, 32)  0         \n",
      "_________________________________________________________________\n",
      "conv3d_5 (Conv3D)            (None, 30, 120, 120, 32)  27680     \n",
      "_________________________________________________________________\n",
      "activation_5 (Activation)    (None, 30, 120, 120, 32)  0         \n",
      "_________________________________________________________________\n",
      "max_pooling3d_4 (MaxPooling3 (None, 10, 40, 40, 32)    0         \n",
      "_________________________________________________________________\n",
      "dropout_2 (Dropout)          (None, 10, 40, 40, 32)    0         \n",
      "_________________________________________________________________\n",
      "conv3d_6 (Conv3D)            (None, 10, 40, 40, 64)    55360     \n",
      "_________________________________________________________________\n",
      "activation_6 (Activation)    (None, 10, 40, 40, 64)    0         \n",
      "_________________________________________________________________\n",
      "conv3d_7 (Conv3D)            (None, 10, 40, 40, 64)    110656    \n",
      "_________________________________________________________________\n",
      "activation_7 (Activation)    (None, 10, 40, 40, 64)    0         \n",
      "_________________________________________________________________\n",
      "max_pooling3d_5 (MaxPooling3 (None, 4, 14, 14, 64)     0         \n",
      "_________________________________________________________________\n",
      "dropout_3 (Dropout)          (None, 4, 14, 14, 64)     0         \n",
      "_________________________________________________________________\n",
      "flatten_1 (Flatten)          (None, 50176)             0         \n",
      "_________________________________________________________________\n",
      "dense_3 (Dense)              (None, 512)               25690624  \n",
      "_________________________________________________________________\n",
      "dropout_4 (Dropout)          (None, 512)               0         \n",
      "_________________________________________________________________\n",
      "dense_4 (Dense)              (None, 5)                 2565      \n",
      "=================================================================\n",
      "Total params: 25,889,509\n",
      "Trainable params: 25,889,509\n",
      "Non-trainable params: 0\n",
      "_________________________________________________________________\n"
     ]
    }
   ],
   "source": [
    "model_b = Sequential()\n",
    "model_b.add(Conv3D(32, kernel_size=(3, 3, 3), input_shape=(x,y,z,channel), padding='same'))\n",
    "model_b.add(Activation('relu'))\n",
    "model_b.add(Conv3D(32, kernel_size=(3, 3, 3), padding='same'))\n",
    "model_b.add(Activation('relu'))\n",
    "model_b.add(MaxPooling3D(pool_size=(3, 3, 3), padding='same'))\n",
    "model_b.add(Dropout(0.25))\n",
    "\n",
    "model_b.add(Conv3D(64, kernel_size=(3, 3, 3), padding='same'))\n",
    "model_b.add(Activation('relu'))\n",
    "model_b.add(Conv3D(64, kernel_size=(3, 3, 3), padding='same'))\n",
    "model_b.add(Activation('relu'))\n",
    "model_b.add(MaxPooling3D(pool_size=(3, 3, 3), padding='same'))\n",
    "model_b.add(Dropout(0.25))\n",
    "\n",
    "model_b.add(Flatten())\n",
    "model_b.add(Dense(512, activation='relu'))\n",
    "model_b.add(Dropout(0.5))\n",
    "model_b.add(Dense(classes, activation='softmax'))\n",
    "\n",
    "model_b.compile(optimizer=optimizers.Adam(), loss='categorical_crossentropy', metrics=['categorical_accuracy'])\n",
    "model_b.summary()"
   ]
  },
  {
   "cell_type": "code",
   "execution_count": 18,
   "metadata": {},
   "outputs": [],
   "source": [
    "batch_size = 10 # batch_size=51 caused Out Of Memory (OOM) error\n",
    "\n",
    "train_generator = generator_ex(train_path, train_doc, batch_size)\n",
    "val_generator = generator_ex(val_path, val_doc, batch_size)"
   ]
  },
  {
   "cell_type": "code",
   "execution_count": 19,
   "metadata": {},
   "outputs": [
    {
     "name": "stdout",
     "output_type": "stream",
     "text": [
      "WARNING:tensorflow:From <ipython-input-19-9c4123912f9d>:3: Model.fit_generator (from tensorflow.python.keras.engine.training) is deprecated and will be removed in a future version.\n",
      "Instructions for updating:\n",
      "Please use Model.fit, which supports generators.\n",
      "Source path =  /datasets/Project_data/train ; batch size = 10\n",
      "Epoch 1/20\n",
      "13/13 [==============================] - ETA: 0s - loss: 2.6841 - categorical_accuracy: 0.2077Source path =  /datasets/Project_data/val ; batch size = 10\n",
      "\n",
      "Epoch 00001: saving model to model_init_2021-06-2515_44_49.032615/model-00001-2.68415-0.20769-1.60411-0.30000.h5\n",
      "13/13 [==============================] - 29s 2s/step - loss: 2.6841 - categorical_accuracy: 0.2077 - val_loss: 1.6041 - val_categorical_accuracy: 0.3000\n",
      "Epoch 2/20\n",
      "13/13 [==============================] - ETA: 0s - loss: 1.6109 - categorical_accuracy: 0.2462\n",
      "Epoch 00002: saving model to model_init_2021-06-2515_44_49.032615/model-00002-1.61087-0.24615-1.61018-0.20000.h5\n",
      "13/13 [==============================] - 27s 2s/step - loss: 1.6109 - categorical_accuracy: 0.2462 - val_loss: 1.6102 - val_categorical_accuracy: 0.2000\n",
      "Epoch 3/20\n",
      "13/13 [==============================] - ETA: 0s - loss: 1.6104 - categorical_accuracy: 0.2154\n",
      "Epoch 00003: saving model to model_init_2021-06-2515_44_49.032615/model-00003-1.61044-0.21538-1.61473-0.05000.h5\n",
      "13/13 [==============================] - 32s 2s/step - loss: 1.6104 - categorical_accuracy: 0.2154 - val_loss: 1.6147 - val_categorical_accuracy: 0.0500\n",
      "Epoch 4/20\n",
      "13/13 [==============================] - ETA: 0s - loss: 1.6113 - categorical_accuracy: 0.1615\n",
      "Epoch 00004: saving model to model_init_2021-06-2515_44_49.032615/model-00004-1.61129-0.16154-1.61041-0.15000.h5\n",
      "13/13 [==============================] - 32s 2s/step - loss: 1.6113 - categorical_accuracy: 0.1615 - val_loss: 1.6104 - val_categorical_accuracy: 0.1500\n",
      "Epoch 5/20\n",
      "13/13 [==============================] - ETA: 0s - loss: 1.6092 - categorical_accuracy: 0.2000\n",
      "Epoch 00005: saving model to model_init_2021-06-2515_44_49.032615/model-00005-1.60917-0.20000-1.60732-0.25000.h5\n",
      "13/13 [==============================] - 30s 2s/step - loss: 1.6092 - categorical_accuracy: 0.2000 - val_loss: 1.6073 - val_categorical_accuracy: 0.2500\n",
      "Epoch 6/20\n",
      "Batch:  67 Index: 10\n",
      "13/13 [==============================] - ETA: 0s - loss: 1.6097 - categorical_accuracy: 0.2174\n",
      "Epoch 00006: saving model to model_init_2021-06-2515_44_49.032615/model-00006-1.60972-0.21739-1.60954-0.15000.h5\n",
      "13/13 [==============================] - 15s 1s/step - loss: 1.6097 - categorical_accuracy: 0.2174 - val_loss: 1.6095 - val_categorical_accuracy: 0.1500\n",
      "Epoch 7/20\n",
      "13/13 [==============================] - ETA: 0s - loss: 1.6103 - categorical_accuracy: 0.3077\n",
      "Epoch 00007: saving model to model_init_2021-06-2515_44_49.032615/model-00007-1.61029-0.30769-1.61062-0.20000.h5\n",
      "13/13 [==============================] - 13s 1s/step - loss: 1.6103 - categorical_accuracy: 0.3077 - val_loss: 1.6106 - val_categorical_accuracy: 0.2000\n",
      "Epoch 8/20\n",
      "13/13 [==============================] - ETA: 0s - loss: 1.6123 - categorical_accuracy: 0.0513\n",
      "Epoch 00008: saving model to model_init_2021-06-2515_44_49.032615/model-00008-1.61225-0.05128-1.60688-0.15000.h5\n",
      "13/13 [==============================] - 15s 1s/step - loss: 1.6123 - categorical_accuracy: 0.0513 - val_loss: 1.6069 - val_categorical_accuracy: 0.1500\n",
      "Epoch 9/20\n",
      "13/13 [==============================] - ETA: 0s - loss: 1.6088 - categorical_accuracy: 0.2308\n",
      "Epoch 00009: saving model to model_init_2021-06-2515_44_49.032615/model-00009-1.60878-0.23077-1.61075-0.15000.h5\n",
      "13/13 [==============================] - 14s 1s/step - loss: 1.6088 - categorical_accuracy: 0.2308 - val_loss: 1.6108 - val_categorical_accuracy: 0.1500\n",
      "Epoch 10/20\n",
      "13/13 [==============================] - ETA: 0s - loss: 1.6088 - categorical_accuracy: 0.1538\n",
      "Epoch 00010: saving model to model_init_2021-06-2515_44_49.032615/model-00010-1.60883-0.15385-1.60433-0.35000.h5\n",
      "13/13 [==============================] - 13s 984ms/step - loss: 1.6088 - categorical_accuracy: 0.1538 - val_loss: 1.6043 - val_categorical_accuracy: 0.3500\n",
      "Epoch 11/20\n",
      "13/13 [==============================] - ETA: 0s - loss: 1.6071 - categorical_accuracy: 0.2564\n",
      "Epoch 00011: saving model to model_init_2021-06-2515_44_49.032615/model-00011-1.60706-0.25641-1.60930-0.20000.h5\n",
      "13/13 [==============================] - 14s 1s/step - loss: 1.6071 - categorical_accuracy: 0.2564 - val_loss: 1.6093 - val_categorical_accuracy: 0.2000\n",
      "Epoch 12/20\n",
      "13/13 [==============================] - ETA: 0s - loss: 1.6060 - categorical_accuracy: 0.2308\n",
      "Epoch 00012: saving model to model_init_2021-06-2515_44_49.032615/model-00012-1.60597-0.23077-1.60626-0.25000.h5\n",
      "13/13 [==============================] - 15s 1s/step - loss: 1.6060 - categorical_accuracy: 0.2308 - val_loss: 1.6063 - val_categorical_accuracy: 0.2500\n",
      "Epoch 13/20\n",
      "13/13 [==============================] - ETA: 0s - loss: 1.6072 - categorical_accuracy: 0.2564\n",
      "Epoch 00013: saving model to model_init_2021-06-2515_44_49.032615/model-00013-1.60717-0.25641-1.60934-0.15000.h5\n",
      "13/13 [==============================] - 14s 1s/step - loss: 1.6072 - categorical_accuracy: 0.2564 - val_loss: 1.6093 - val_categorical_accuracy: 0.1500\n",
      "Epoch 14/20\n",
      "13/13 [==============================] - ETA: 0s - loss: 1.6128 - categorical_accuracy: 0.1538\n",
      "Epoch 00014: saving model to model_init_2021-06-2515_44_49.032615/model-00014-1.61284-0.15385-1.59966-0.35000.h5\n",
      "13/13 [==============================] - 13s 992ms/step - loss: 1.6128 - categorical_accuracy: 0.1538 - val_loss: 1.5997 - val_categorical_accuracy: 0.3500\n",
      "Epoch 15/20\n",
      "13/13 [==============================] - ETA: 0s - loss: 1.6099 - categorical_accuracy: 0.2051\n",
      "Epoch 00015: saving model to model_init_2021-06-2515_44_49.032615/model-00015-1.60985-0.20513-1.61174-0.15000.h5\n",
      "13/13 [==============================] - 16s 1s/step - loss: 1.6099 - categorical_accuracy: 0.2051 - val_loss: 1.6117 - val_categorical_accuracy: 0.1500\n",
      "Epoch 16/20\n",
      "13/13 [==============================] - ETA: 0s - loss: 1.6092 - categorical_accuracy: 0.1026\n",
      "Epoch 00016: saving model to model_init_2021-06-2515_44_49.032615/model-00016-1.60917-0.10256-1.61258-0.05000.h5\n",
      "13/13 [==============================] - 14s 1s/step - loss: 1.6092 - categorical_accuracy: 0.1026 - val_loss: 1.6126 - val_categorical_accuracy: 0.0500\n",
      "Epoch 17/20\n",
      "13/13 [==============================] - ETA: 0s - loss: 1.6087 - categorical_accuracy: 0.1795\n",
      "Epoch 00017: saving model to model_init_2021-06-2515_44_49.032615/model-00017-1.60872-0.17949-1.60567-0.20000.h5\n",
      "13/13 [==============================] - 13s 963ms/step - loss: 1.6087 - categorical_accuracy: 0.1795 - val_loss: 1.6057 - val_categorical_accuracy: 0.2000\n",
      "Epoch 18/20\n",
      "13/13 [==============================] - ETA: 0s - loss: 1.6080 - categorical_accuracy: 0.2821\n",
      "Epoch 00018: saving model to model_init_2021-06-2515_44_49.032615/model-00018-1.60798-0.28205-1.60706-0.15000.h5\n",
      "13/13 [==============================] - 14s 1s/step - loss: 1.6080 - categorical_accuracy: 0.2821 - val_loss: 1.6071 - val_categorical_accuracy: 0.1500\n",
      "Epoch 19/20\n",
      "13/13 [==============================] - ETA: 0s - loss: 1.6086 - categorical_accuracy: 0.2051\n",
      "Epoch 00019: saving model to model_init_2021-06-2515_44_49.032615/model-00019-1.60860-0.20513-1.60975-0.15000.h5\n",
      "13/13 [==============================] - 13s 1s/step - loss: 1.6086 - categorical_accuracy: 0.2051 - val_loss: 1.6098 - val_categorical_accuracy: 0.1500\n",
      "Epoch 20/20\n",
      "13/13 [==============================] - ETA: 0s - loss: 1.6104 - categorical_accuracy: 0.2051\n",
      "Epoch 00020: saving model to model_init_2021-06-2515_44_49.032615/model-00020-1.61035-0.20513-1.60826-0.35000.h5\n",
      "13/13 [==============================] - 14s 1s/step - loss: 1.6104 - categorical_accuracy: 0.2051 - val_loss: 1.6083 - val_categorical_accuracy: 0.3500\n"
     ]
    },
    {
     "data": {
      "text/plain": [
       "<tensorflow.python.keras.callbacks.History at 0x7f2fcc72a0f0>"
      ]
     },
     "execution_count": 19,
     "metadata": {},
     "output_type": "execute_result"
    }
   ],
   "source": [
    "model_b.fit_generator(train_generator, steps_per_epoch=steps_per_epoch, epochs=num_epochs, verbose=1, \n",
    "                    callbacks=callbacks_list, validation_data=val_generator, \n",
    "                    validation_steps=validation_steps, class_weight=None, workers=1, initial_epoch=0)"
   ]
  },
  {
   "cell_type": "markdown",
   "metadata": {},
   "source": [
    "## Changing batch_size to 20"
   ]
  },
  {
   "cell_type": "code",
   "execution_count": 20,
   "metadata": {},
   "outputs": [
    {
     "name": "stdout",
     "output_type": "stream",
     "text": [
      "Source path =  /datasets/Project_data/train ; batch size = 20\n",
      "Epoch 1/20\n",
      "13/13 [==============================] - ETA: 0s - loss: 1.6098 - categorical_accuracy: 0.1885Source path =  /datasets/Project_data/val ; batch size = 20\n",
      "\n",
      "Epoch 00001: saving model to model_init_2021-06-2515_44_49.032615/model-00001-1.60980-0.18846-1.60564-0.25000.h5\n",
      "13/13 [==============================] - 60s 5s/step - loss: 1.6098 - categorical_accuracy: 0.1885 - val_loss: 1.6056 - val_categorical_accuracy: 0.2500\n",
      "Epoch 2/20\n",
      "13/13 [==============================] - ETA: 0s - loss: 1.6090 - categorical_accuracy: 0.2000\n",
      "Epoch 00002: saving model to model_init_2021-06-2515_44_49.032615/model-00002-1.60897-0.20000-1.60977-0.20000.h5\n",
      "13/13 [==============================] - 58s 4s/step - loss: 1.6090 - categorical_accuracy: 0.2000 - val_loss: 1.6098 - val_categorical_accuracy: 0.2000\n",
      "Epoch 3/20\n",
      " 6/13 [============>.................] - ETA: 20s - loss: 1.6088 - categorical_accuracy: 0.1917Batch:  34 Index: 20\n",
      "13/13 [==============================] - ETA: 0s - loss: 1.6076 - categorical_accuracy: 0.2468\n",
      "Epoch 00003: saving model to model_init_2021-06-2515_44_49.032615/model-00003-1.60758-0.24684-1.60762-0.20000.h5\n",
      "13/13 [==============================] - 38s 3s/step - loss: 1.6076 - categorical_accuracy: 0.2468 - val_loss: 1.6076 - val_categorical_accuracy: 0.2000\n",
      "Epoch 4/20\n",
      "13/13 [==============================] - ETA: 0s - loss: 1.6040 - categorical_accuracy: 0.2821\n",
      "Epoch 00004: saving model to model_init_2021-06-2515_44_49.032615/model-00004-1.60396-0.28205-1.60663-0.22500.h5\n",
      "13/13 [==============================] - 22s 2s/step - loss: 1.6040 - categorical_accuracy: 0.2821 - val_loss: 1.6066 - val_categorical_accuracy: 0.2250\n",
      "Epoch 5/20\n",
      "13/13 [==============================] - ETA: 0s - loss: 1.6055 - categorical_accuracy: 0.2821\n",
      "Epoch 00005: saving model to model_init_2021-06-2515_44_49.032615/model-00005-1.60554-0.28205-1.61135-0.20000.h5\n",
      "13/13 [==============================] - 21s 2s/step - loss: 1.6055 - categorical_accuracy: 0.2821 - val_loss: 1.6113 - val_categorical_accuracy: 0.2000\n",
      "Epoch 6/20\n",
      "13/13 [==============================] - ETA: 0s - loss: 1.6095 - categorical_accuracy: 0.2308\n",
      "Epoch 00006: saving model to model_init_2021-06-2515_44_49.032615/model-00006-1.60951-0.23077-1.61087-0.15000.h5\n",
      "13/13 [==============================] - 19s 1s/step - loss: 1.6095 - categorical_accuracy: 0.2308 - val_loss: 1.6109 - val_categorical_accuracy: 0.1500\n",
      "Epoch 7/20\n",
      "13/13 [==============================] - ETA: 0s - loss: 1.6072 - categorical_accuracy: 0.1795\n",
      "Epoch 00007: saving model to model_init_2021-06-2515_44_49.032615/model-00007-1.60716-0.17949-1.60727-0.25000.h5\n",
      "13/13 [==============================] - 20s 2s/step - loss: 1.6072 - categorical_accuracy: 0.1795 - val_loss: 1.6073 - val_categorical_accuracy: 0.2500\n",
      "Epoch 8/20\n",
      "13/13 [==============================] - ETA: 0s - loss: 1.6164 - categorical_accuracy: 0.1795\n",
      "Epoch 00008: saving model to model_init_2021-06-2515_44_49.032615/model-00008-1.61636-0.17949-1.60367-0.30000.h5\n",
      "13/13 [==============================] - 22s 2s/step - loss: 1.6164 - categorical_accuracy: 0.1795 - val_loss: 1.6037 - val_categorical_accuracy: 0.3000\n",
      "Epoch 9/20\n",
      "13/13 [==============================] - ETA: 0s - loss: 1.6094 - categorical_accuracy: 0.2051\n",
      "Epoch 00009: saving model to model_init_2021-06-2515_44_49.032615/model-00009-1.60936-0.20513-1.61064-0.12500.h5\n",
      "13/13 [==============================] - 22s 2s/step - loss: 1.6094 - categorical_accuracy: 0.2051 - val_loss: 1.6106 - val_categorical_accuracy: 0.1250\n",
      "Epoch 10/20\n",
      "13/13 [==============================] - ETA: 0s - loss: 1.6066 - categorical_accuracy: 0.2821\n",
      "Epoch 00010: saving model to model_init_2021-06-2515_44_49.032615/model-00010-1.60662-0.28205-1.60605-0.30000.h5\n",
      "13/13 [==============================] - 19s 1s/step - loss: 1.6066 - categorical_accuracy: 0.2821 - val_loss: 1.6060 - val_categorical_accuracy: 0.3000\n",
      "Epoch 11/20\n",
      "13/13 [==============================] - ETA: 0s - loss: 1.6128 - categorical_accuracy: 0.1282\n",
      "Epoch 00011: saving model to model_init_2021-06-2515_44_49.032615/model-00011-1.61282-0.12821-1.60689-0.25000.h5\n",
      "13/13 [==============================] - 18s 1s/step - loss: 1.6128 - categorical_accuracy: 0.1282 - val_loss: 1.6069 - val_categorical_accuracy: 0.2500\n",
      "Epoch 12/20\n",
      "13/13 [==============================] - ETA: 0s - loss: 1.6118 - categorical_accuracy: 0.1538\n",
      "Epoch 00012: saving model to model_init_2021-06-2515_44_49.032615/model-00012-1.61175-0.15385-1.60754-0.22500.h5\n",
      "13/13 [==============================] - 23s 2s/step - loss: 1.6118 - categorical_accuracy: 0.1538 - val_loss: 1.6075 - val_categorical_accuracy: 0.2250\n",
      "Epoch 13/20\n",
      "13/13 [==============================] - ETA: 0s - loss: 1.6104 - categorical_accuracy: 0.2564\n",
      "Epoch 00013: saving model to model_init_2021-06-2515_44_49.032615/model-00013-1.61043-0.25641-1.60823-0.20000.h5\n",
      "13/13 [==============================] - 19s 1s/step - loss: 1.6104 - categorical_accuracy: 0.2564 - val_loss: 1.6082 - val_categorical_accuracy: 0.2000\n",
      "Epoch 14/20\n",
      "13/13 [==============================] - ETA: 0s - loss: 1.6128 - categorical_accuracy: 0.1026\n",
      "Epoch 00014: saving model to model_init_2021-06-2515_44_49.032615/model-00014-1.61282-0.10256-1.60926-0.17500.h5\n",
      "13/13 [==============================] - 19s 1s/step - loss: 1.6128 - categorical_accuracy: 0.1026 - val_loss: 1.6093 - val_categorical_accuracy: 0.1750\n",
      "Epoch 15/20\n",
      "13/13 [==============================] - ETA: 0s - loss: 1.6039 - categorical_accuracy: 0.3590\n",
      "Epoch 00015: saving model to model_init_2021-06-2515_44_49.032615/model-00015-1.60393-0.35897-1.61085-0.15000.h5\n",
      "13/13 [==============================] - 20s 2s/step - loss: 1.6039 - categorical_accuracy: 0.3590 - val_loss: 1.6109 - val_categorical_accuracy: 0.1500\n",
      "Epoch 16/20\n",
      "13/13 [==============================] - ETA: 0s - loss: 1.6095 - categorical_accuracy: 0.2308\n",
      "Epoch 00016: saving model to model_init_2021-06-2515_44_49.032615/model-00016-1.60949-0.23077-1.60806-0.27500.h5\n",
      "13/13 [==============================] - 21s 2s/step - loss: 1.6095 - categorical_accuracy: 0.2308 - val_loss: 1.6081 - val_categorical_accuracy: 0.2750\n",
      "Epoch 17/20\n",
      "13/13 [==============================] - ETA: 0s - loss: 1.6112 - categorical_accuracy: 0.1538\n",
      "Epoch 00017: saving model to model_init_2021-06-2515_44_49.032615/model-00017-1.61123-0.15385-1.61096-0.07500.h5\n",
      "13/13 [==============================] - 19s 1s/step - loss: 1.6112 - categorical_accuracy: 0.1538 - val_loss: 1.6110 - val_categorical_accuracy: 0.0750\n",
      "Epoch 18/20\n",
      "13/13 [==============================] - ETA: 0s - loss: 1.6074 - categorical_accuracy: 0.2564\n",
      "Epoch 00018: saving model to model_init_2021-06-2515_44_49.032615/model-00018-1.60743-0.25641-1.60783-0.22500.h5\n",
      "13/13 [==============================] - 21s 2s/step - loss: 1.6074 - categorical_accuracy: 0.2564 - val_loss: 1.6078 - val_categorical_accuracy: 0.2250\n",
      "Epoch 19/20\n",
      "13/13 [==============================] - ETA: 0s - loss: 1.6086 - categorical_accuracy: 0.1538\n",
      "Epoch 00019: saving model to model_init_2021-06-2515_44_49.032615/model-00019-1.60864-0.15385-1.60584-0.22500.h5\n",
      "13/13 [==============================] - 21s 2s/step - loss: 1.6086 - categorical_accuracy: 0.1538 - val_loss: 1.6058 - val_categorical_accuracy: 0.2250\n",
      "Epoch 20/20\n",
      "13/13 [==============================] - ETA: 0s - loss: 1.6104 - categorical_accuracy: 0.1282\n",
      "Epoch 00020: saving model to model_init_2021-06-2515_44_49.032615/model-00020-1.61037-0.12821-1.61174-0.15000.h5\n",
      "13/13 [==============================] - 18s 1s/step - loss: 1.6104 - categorical_accuracy: 0.1282 - val_loss: 1.6117 - val_categorical_accuracy: 0.1500\n"
     ]
    },
    {
     "data": {
      "text/plain": [
       "<tensorflow.python.keras.callbacks.History at 0x7f2f3ff69c18>"
      ]
     },
     "execution_count": 20,
     "metadata": {},
     "output_type": "execute_result"
    }
   ],
   "source": [
    "batch_size = 20\n",
    "\n",
    "train_generator = generator_ex(train_path, train_doc, batch_size)\n",
    "val_generator = generator_ex(val_path, val_doc, batch_size)\n",
    "\n",
    "model_b.fit_generator(train_generator, steps_per_epoch=steps_per_epoch, epochs=num_epochs, verbose=1, \n",
    "                    callbacks=callbacks_list, validation_data=val_generator, \n",
    "                    validation_steps=validation_steps, class_weight=None, workers=1, initial_epoch=0)"
   ]
  },
  {
   "cell_type": "markdown",
   "metadata": {},
   "source": [
    "## Changing batch_size to 30"
   ]
  },
  {
   "cell_type": "code",
   "execution_count": null,
   "metadata": {},
   "outputs": [
    {
     "name": "stdout",
     "output_type": "stream",
     "text": [
      "Source path =  /datasets/Project_data/train ; batch size = 30\n",
      "Epoch 1/20\n",
      "13/13 [==============================] - ETA: 0s - loss: 1.6099 - categorical_accuracy: 0.1897Source path =  /datasets/Project_data/val ; batch size = 30\n",
      "\n",
      "Epoch 00001: saving model to model_init_2021-06-2515_44_49.032615/model-00001-1.60986-0.18974-1.60829-0.20000.h5\n",
      "13/13 [==============================] - 84s 6s/step - loss: 1.6099 - categorical_accuracy: 0.1897 - val_loss: 1.6083 - val_categorical_accuracy: 0.2000\n",
      "Epoch 2/20\n",
      " 8/13 [=================>............] - ETA: 24s - loss: 1.6063 - categorical_accuracy: 0.2333Batch:  23 Index: 30\n",
      "13/13 [==============================] - ETA: 0s - loss: 1.6073 - categorical_accuracy: 0.2163Batch:  4 Index: 30\n",
      "\n",
      "Epoch 00002: saving model to model_init_2021-06-2515_44_49.032615/model-00002-1.60729-0.21631-1.60986-0.15000.h5\n",
      "13/13 [==============================] - 55s 4s/step - loss: 1.6073 - categorical_accuracy: 0.2163 - val_loss: 1.6099 - val_categorical_accuracy: 0.1500\n",
      "Epoch 3/20\n",
      "13/13 [==============================] - ETA: 0s - loss: 1.6098 - categorical_accuracy: 0.2051\n",
      "Epoch 00003: saving model to model_init_2021-06-2515_44_49.032615/model-00003-1.60977-0.20513-1.61110-0.10000.h5\n",
      "13/13 [==============================] - 13s 1s/step - loss: 1.6098 - categorical_accuracy: 0.2051 - val_loss: 1.6111 - val_categorical_accuracy: 0.1000\n",
      "Epoch 4/20\n",
      "13/13 [==============================] - ETA: 0s - loss: 1.6056 - categorical_accuracy: 0.2564\n",
      "Epoch 00004: saving model to model_init_2021-06-2515_44_49.032615/model-00004-1.60562-0.25641-1.61176-0.15000.h5\n",
      "13/13 [==============================] - 13s 1s/step - loss: 1.6056 - categorical_accuracy: 0.2564 - val_loss: 1.6118 - val_categorical_accuracy: 0.1500\n",
      "Epoch 5/20\n",
      "13/13 [==============================] - ETA: 0s - loss: 1.6081 - categorical_accuracy: 0.2051\n",
      "Epoch 00005: saving model to model_init_2021-06-2515_44_49.032615/model-00005-1.60813-0.20513-1.60543-0.30000.h5\n",
      "13/13 [==============================] - 14s 1s/step - loss: 1.6081 - categorical_accuracy: 0.2051 - val_loss: 1.6054 - val_categorical_accuracy: 0.3000\n",
      "Epoch 6/20\n",
      "13/13 [==============================] - ETA: 0s - loss: 1.6112 - categorical_accuracy: 0.2051\n",
      "Epoch 00006: saving model to model_init_2021-06-2515_44_49.032615/model-00006-1.61115-0.20513-1.61187-0.10000.h5\n",
      "13/13 [==============================] - 14s 1s/step - loss: 1.6112 - categorical_accuracy: 0.2051 - val_loss: 1.6119 - val_categorical_accuracy: 0.1000\n",
      "Epoch 7/20\n",
      "13/13 [==============================] - ETA: 0s - loss: 1.6116 - categorical_accuracy: 0.1795\n",
      "Epoch 00007: saving model to model_init_2021-06-2515_44_49.032615/model-00007-1.61160-0.17949-1.60299-0.25000.h5\n",
      "13/13 [==============================] - 13s 1s/step - loss: 1.6116 - categorical_accuracy: 0.1795 - val_loss: 1.6030 - val_categorical_accuracy: 0.2500\n",
      "Epoch 8/20\n",
      "13/13 [==============================] - ETA: 0s - loss: 1.6030 - categorical_accuracy: 0.3846\n",
      "Epoch 00008: saving model to model_init_2021-06-2515_44_49.032615/model-00008-1.60300-0.38462-1.60788-0.30000.h5\n",
      "13/13 [==============================] - 15s 1s/step - loss: 1.6030 - categorical_accuracy: 0.3846 - val_loss: 1.6079 - val_categorical_accuracy: 0.3000\n",
      "Epoch 9/20\n",
      "13/13 [==============================] - ETA: 0s - loss: 1.6102 - categorical_accuracy: 0.1795\n",
      "Epoch 00009: saving model to model_init_2021-06-2515_44_49.032615/model-00009-1.61022-0.17949-1.60275-0.25000.h5\n",
      "13/13 [==============================] - 14s 1s/step - loss: 1.6102 - categorical_accuracy: 0.1795 - val_loss: 1.6027 - val_categorical_accuracy: 0.2500\n",
      "Epoch 10/20\n",
      "13/13 [==============================] - ETA: 0s - loss: 1.6071 - categorical_accuracy: 0.2051\n",
      "Epoch 00010: saving model to model_init_2021-06-2515_44_49.032615/model-00010-1.60707-0.20513-1.61103-0.20000.h5\n",
      "13/13 [==============================] - 13s 1s/step - loss: 1.6071 - categorical_accuracy: 0.2051 - val_loss: 1.6110 - val_categorical_accuracy: 0.2000\n",
      "Epoch 11/20\n",
      "13/13 [==============================] - ETA: 0s - loss: 1.6130 - categorical_accuracy: 0.1538\n",
      "Epoch 00011: saving model to model_init_2021-06-2515_44_49.032615/model-00011-1.61296-0.15385-1.61061-0.10000.h5\n",
      "13/13 [==============================] - 15s 1s/step - loss: 1.6130 - categorical_accuracy: 0.1538 - val_loss: 1.6106 - val_categorical_accuracy: 0.1000\n",
      "Epoch 12/20\n",
      "13/13 [==============================] - ETA: 0s - loss: 1.6130 - categorical_accuracy: 0.1538\n",
      "Epoch 00012: saving model to model_init_2021-06-2515_44_49.032615/model-00012-1.61301-0.15385-1.61106-0.15000.h5\n",
      "13/13 [==============================] - 14s 1s/step - loss: 1.6130 - categorical_accuracy: 0.1538 - val_loss: 1.6111 - val_categorical_accuracy: 0.1500\n",
      "Epoch 13/20\n",
      "13/13 [==============================] - ETA: 0s - loss: 1.6098 - categorical_accuracy: 0.2051\n",
      "Epoch 00013: saving model to model_init_2021-06-2515_44_49.032615/model-00013-1.60978-0.20513-1.61451-0.10000.h5\n",
      "13/13 [==============================] - 14s 1s/step - loss: 1.6098 - categorical_accuracy: 0.2051 - val_loss: 1.6145 - val_categorical_accuracy: 0.1000\n",
      "Epoch 14/20\n",
      "13/13 [==============================] - ETA: 0s - loss: 1.6087 - categorical_accuracy: 0.2308\n",
      "Epoch 00014: saving model to model_init_2021-06-2515_44_49.032615/model-00014-1.60871-0.23077-1.60275-0.35000.h5\n",
      "13/13 [==============================] - 13s 1s/step - loss: 1.6087 - categorical_accuracy: 0.2308 - val_loss: 1.6027 - val_categorical_accuracy: 0.3500\n",
      "Epoch 15/20\n",
      "13/13 [==============================] - ETA: 0s - loss: 1.6092 - categorical_accuracy: 0.1795\n",
      "Epoch 00015: saving model to model_init_2021-06-2515_44_49.032615/model-00015-1.60923-0.17949-1.60327-0.35000.h5\n",
      "13/13 [==============================] - 14s 1s/step - loss: 1.6092 - categorical_accuracy: 0.1795 - val_loss: 1.6033 - val_categorical_accuracy: 0.3500\n",
      "Epoch 16/20\n",
      "13/13 [==============================] - ETA: 0s - loss: 1.6109 - categorical_accuracy: 0.1538\n",
      "Epoch 00016: saving model to model_init_2021-06-2515_44_49.032615/model-00016-1.61088-0.15385-1.60772-0.20000.h5\n",
      "13/13 [==============================] - 13s 996ms/step - loss: 1.6109 - categorical_accuracy: 0.1538 - val_loss: 1.6077 - val_categorical_accuracy: 0.2000\n",
      "Epoch 17/20\n",
      "13/13 [==============================] - ETA: 0s - loss: 1.6073 - categorical_accuracy: 0.2821"
     ]
    }
   ],
   "source": [
    "batch_size = 30\n",
    "\n",
    "train_generator = generator_ex(train_path, train_doc, batch_size)\n",
    "val_generator = generator_ex(val_path, val_doc, batch_size)\n",
    "\n",
    "model_b.fit_generator(train_generator, steps_per_epoch=steps_per_epoch, epochs=num_epochs, verbose=1, \n",
    "                    callbacks=callbacks_list, validation_data=val_generator, \n",
    "                    validation_steps=validation_steps, class_weight=None, workers=1, initial_epoch=0)"
   ]
  },
  {
   "cell_type": "markdown",
   "metadata": {},
   "source": [
    "## Seems like we are getting higher accuracies with increasing batch_size. As we know that OOM error occurs at 51, lets now try training the model with batch_size = 40"
   ]
  },
  {
   "cell_type": "code",
   "execution_count": null,
   "metadata": {},
   "outputs": [],
   "source": [
    "batch_size = 40\n",
    "\n",
    "train_generator = generator_ex(train_path, train_doc, batch_size)\n",
    "val_generator = generator_ex(val_path, val_doc, batch_size)\n",
    "\n",
    "model_b.fit_generator(train_generator, steps_per_epoch=steps_per_epoch, epochs=num_epochs, verbose=1, \n",
    "                    callbacks=callbacks_list, validation_data=val_generator, \n",
    "                    validation_steps=validation_steps, class_weight=None, workers=1, initial_epoch=0)"
   ]
  },
  {
   "cell_type": "markdown",
   "metadata": {},
   "source": [
    "## Model C"
   ]
  },
  {
   "cell_type": "code",
   "execution_count": null,
   "metadata": {},
   "outputs": [],
   "source": [
    "x = 30 # number of frames\n",
    "y = 120 # image width\n",
    "z = 120 # image height \n",
    "\n",
    "classes = 5\n",
    "channel = 1\n",
    "nb_dense = [1000, 500, 5]\n",
    "nb_filters = [8,16,32,64]\n",
    "\n",
    "input_shape=(x,y,z,channel)\n",
    "\n",
    "# Define model\n",
    "model_c = Sequential()\n",
    "\n",
    "model_c.add(Conv3D(nb_filters[0], \n",
    "                 kernel_size=(3,3,3), \n",
    "                 input_shape=input_shape,\n",
    "                 padding='same'))\n",
    "model_c.add(BatchNormalization())\n",
    "model_c.add(Activation('relu'))\n",
    "\n",
    "model_c.add(MaxPooling3D(pool_size=(2,2,2)))\n",
    "\n",
    "model_c.add(Conv3D(nb_filters[1], \n",
    "                 kernel_size=(3,3,3), \n",
    "                 padding='same'))\n",
    "model_c.add(BatchNormalization())\n",
    "model_c.add(Activation('relu'))\n",
    "\n",
    "model_c.add(MaxPooling3D(pool_size=(2,2,2)))\n",
    "\n",
    "model_c.add(Conv3D(nb_filters[2], \n",
    "                 kernel_size=(1,3,3), \n",
    "                 padding='same'))\n",
    "model_c.add(BatchNormalization())\n",
    "model_c.add(Activation('relu'))\n",
    "\n",
    "model_c.add(MaxPooling3D(pool_size=(2,2,2)))\n",
    "\n",
    "model_c.add(Conv3D(nb_filters[3], \n",
    "                 kernel_size=(1,3,3), \n",
    "                 padding='same'))\n",
    "model_c.add(BatchNormalization())\n",
    "model_c.add(Activation('relu'))\n",
    "\n",
    "model_c.add(MaxPooling3D(pool_size=(2,2,2)))\n",
    "\n",
    "#Flatten Layers\n",
    "model_c.add(Flatten())\n",
    "\n",
    "model_c.add(Dense(nb_dense[0], activation='relu'))\n",
    "model_c.add(Dropout(0.5))\n",
    "\n",
    "model_c.add(Dense(nb_dense[1], activation='relu'))\n",
    "model_c.add(Dropout(0.5))\n",
    "\n",
    "#softmax layer\n",
    "model_c.add(Dense(nb_dense[2], activation='softmax'))\n",
    "model_c.compile(optimizer=keras.optimizers.Adadelta(), loss='categorical_crossentropy', metrics=['categorical_accuracy'])\n",
    "model_c.summary()"
   ]
  },
  {
   "cell_type": "code",
   "execution_count": null,
   "metadata": {},
   "outputs": [],
   "source": [
    "batch_size = 10\n",
    "train_generator = generator_ex(train_path, train_doc, batch_size)\n",
    "val_generator = generator_ex(val_path, val_doc, batch_size)\n",
    "num_epochs = 30\n",
    "model_c.fit_generator(train_generator, steps_per_epoch=steps_per_epoch, epochs=num_epochs, verbose=1, \n",
    "                    callbacks=callbacks_list, validation_data=val_generator, \n",
    "                    validation_steps=validation_steps, class_weight=None, workers=1, initial_epoch=0)"
   ]
  },
  {
   "cell_type": "code",
   "execution_count": null,
   "metadata": {},
   "outputs": [],
   "source": [
    "batch_size = 30\n",
    "train_generator = generator_ex(train_path, train_doc, batch_size)\n",
    "val_generator = generator_ex(val_path, val_doc, batch_size)\n",
    "num_epochs = 30\n",
    "model_c.fit_generator(train_generator, steps_per_epoch=steps_per_epoch, epochs=num_epochs, verbose=1, \n",
    "                    callbacks=callbacks_list, validation_data=val_generator, \n",
    "                    validation_steps=validation_steps, class_weight=None, workers=1, initial_epoch=0)"
   ]
  },
  {
   "cell_type": "code",
   "execution_count": null,
   "metadata": {},
   "outputs": [],
   "source": []
  }
 ],
 "metadata": {
  "kernelspec": {
   "display_name": "Python 3",
   "language": "python",
   "name": "python3"
  },
  "language_info": {
   "codemirror_mode": {
    "name": "ipython",
    "version": 3
   },
   "file_extension": ".py",
   "mimetype": "text/x-python",
   "name": "python",
   "nbconvert_exporter": "python",
   "pygments_lexer": "ipython3",
   "version": "3.6.9"
  }
 },
 "nbformat": 4,
 "nbformat_minor": 4
}
