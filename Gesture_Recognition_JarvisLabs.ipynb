{
 "cells": [
  {
   "cell_type": "markdown",
   "metadata": {},
   "source": [
    "# Gesture Recognition\n",
    "In this group project, you are going to build a 3D Conv model that will be able to predict the 5 gestures correctly. Please import the following libraries to get started."
   ]
  },
  {
   "cell_type": "code",
   "execution_count": 4,
   "metadata": {},
   "outputs": [
    {
     "name": "stdout",
     "output_type": "stream",
     "text": [
      "Sun Jun 20 15:31:30 2021       \n",
      "+-----------------------------------------------------------------------------+\n",
      "| NVIDIA-SMI 460.73.01    Driver Version: 460.73.01    CUDA Version: 11.2     |\n",
      "|-------------------------------+----------------------+----------------------+\n",
      "| GPU  Name        Persistence-M| Bus-Id        Disp.A | Volatile Uncorr. ECC |\n",
      "| Fan  Temp  Perf  Pwr:Usage/Cap|         Memory-Usage | GPU-Util  Compute M. |\n",
      "|                               |                      |               MIG M. |\n",
      "|===============================+======================+======================|\n",
      "|   0  Quadro RTX 6000     Off  | 00000000:1E:00.0 Off |                  Off |\n",
      "| 33%   35C    P2    64W / 260W |  23174MiB / 24220MiB |      0%      Default |\n",
      "|                               |                      |                  N/A |\n",
      "+-------------------------------+----------------------+----------------------+\n",
      "                                                                               \n",
      "+-----------------------------------------------------------------------------+\n",
      "| Processes:                                                                  |\n",
      "|  GPU   GI   CI        PID   Type   Process name                  GPU Memory |\n",
      "|        ID   ID                                                   Usage      |\n",
      "|=============================================================================|\n",
      "+-----------------------------------------------------------------------------+\n"
     ]
    }
   ],
   "source": [
    "!nvidia-smi"
   ]
  },
  {
   "cell_type": "code",
   "execution_count": 5,
   "metadata": {},
   "outputs": [],
   "source": [
    "import numpy as np\n",
    "import os\n",
    "# from scipy.misc import  imresize\n",
    "from matplotlib.pyplot import imread\n",
    "\n",
    "\n",
    "import datetime\n",
    "import os"
   ]
  },
  {
   "cell_type": "markdown",
   "metadata": {},
   "source": [
    "We set the random seed so that the results don't vary drastically."
   ]
  },
  {
   "cell_type": "code",
   "execution_count": 6,
   "metadata": {},
   "outputs": [],
   "source": [
    "np.random.seed(30)\n",
    "import random as rn\n",
    "rn.seed(30)\n",
    "from keras import backend as K\n",
    "import tensorflow as tf\n",
    "tf.random.set_seed(30)"
   ]
  },
  {
   "cell_type": "code",
   "execution_count": 7,
   "metadata": {},
   "outputs": [],
   "source": [
    "import cv2\n",
    "import matplotlib.pyplot as plt"
   ]
  },
  {
   "cell_type": "code",
   "execution_count": null,
   "metadata": {},
   "outputs": [],
   "source": []
  },
  {
   "cell_type": "markdown",
   "metadata": {},
   "source": [
    "In this block, you read the folder names for training and validation. You also set the `batch_size` here. Note that you set the batch size in such a way that you are able to use the GPU in full capacity. You keep increasing the batch size until the machine throws an error."
   ]
  },
  {
   "cell_type": "code",
   "execution_count": 8,
   "metadata": {},
   "outputs": [],
   "source": [
    "train_doc = np.random.permutation(open('/datasets/Project_data/train.csv').readlines())\n",
    "val_doc = np.random.permutation(open('/datasets/Project_data/val.csv').readlines())\n"
   ]
  },
  {
   "cell_type": "code",
   "execution_count": 9,
   "metadata": {},
   "outputs": [
    {
     "name": "stdout",
     "output_type": "stream",
     "text": [
      "Train len  : 663\n",
      "Val len  : 100\n"
     ]
    }
   ],
   "source": [
    "print('Train len  :' ,len(train_doc))\n",
    "print('Val len  :' ,len(val_doc))"
   ]
  },
  {
   "cell_type": "code",
   "execution_count": 10,
   "metadata": {},
   "outputs": [],
   "source": [
    "batch_size = 51"
   ]
  },
  {
   "cell_type": "markdown",
   "metadata": {},
   "source": [
    "## Generator\n",
    "This is one of the most important part of the code. The overall structure of the generator has been given. In the generator, you are going to preprocess the images as you have images of 2 different dimensions as well as create a batch of video frames. You have to experiment with `img_idx`, `y`,`z` and normalization such that you get high accuracy."
   ]
  },
  {
   "cell_type": "code",
   "execution_count": 11,
   "metadata": {},
   "outputs": [],
   "source": [
    "def generator(source_path, folder_list, batch_size):\n",
    "    print( 'Source path = ', source_path, '; batch size =', batch_size)\n",
    "    img_idx = [11,12,13,14,15,16,17,18,19,20,21,22,23,24,25,26,27,28]#create a list of image numbers you want to use for a particular video\n",
    "#     img_idx = [1,2,3,4,5,6,7,8,9,10,11,12,13,14,15,16,17,18,19,20,21,22,23,24,25,26,27,28]#create a list of image numbers you want to use for a particular video\n",
    "    while True:\n",
    "        t = np.random.permutation(folder_list)\n",
    "        num_batches = len(source_path)//batch_size # calculate the number of batches\n",
    "        print('Number of batches : ',num_batches)\n",
    "        for batch in range(num_batches): # we iterate over the number of batches\n",
    "            batch_data = np.zeros((batch_size,18,100,100,3)) # x is the number of images you use for each video, (y,z) is the final size of the input images and 3 is the number of channels RGB\n",
    "            batch_labels = np.zeros((batch_size,5)) # batch_labels is the one hot representation of the output\n",
    "            for folder in range(batch_size): # iterate over the batch_size\n",
    "                imgs = os.listdir(source_path+'/'+ t[folder + (batch*batch_size)].split(';')[0]) # read all the images in the folder\n",
    "                for idx,item in enumerate(img_idx): #  Iterate iver the frames/images of a folder to read them in\n",
    "                    image = imread(source_path+'/'+ t[folder + (batch*batch_size)].strip().split(';')[0]+'/'+imgs[item]).astype(np.float32)\n",
    "                    \n",
    "                    \n",
    "                    \n",
    "                    # Cropped image of above dimension \n",
    "                    # (It will not change orginal image) \n",
    "                    \n",
    "                    #image = image.crop((0, 0, 120, 120))\n",
    "                    image = image.resize(100, 100)\n",
    "                    \n",
    "                    \n",
    "                    #crop the images and resize them. Note that the images are of 2 different shape \n",
    "                    #and the conv3D will throw error if the inputs in a batch have different shapes\n",
    "                    \n",
    "                    batch_data[folder,idx,:,:,0] /= 255\n",
    "                    batch_data[folder,idx,:,:,1] /= 255 #normalise and feed in the image\n",
    "                    batch_data[folder,idx,:,:,2] /= 255 #normalise and feed in the image\n",
    "                    \n",
    "                batch_labels[folder, int(t[folder + (batch*batch_size)].strip().split(';')[2])] = 1\n",
    "            yield batch_data, batch_labels #you yield the batch_data and the batch_labels, remember what does yield do\n",
    "\n",
    "        \n",
    "        # write the code for the remaining data points which are left after full batches\n",
    "        if((len(source_path)%batch_size)//2==0):\n",
    "            batch_size = 2\n",
    "        else:\n",
    "            batch_size = 1\n",
    "        num_batches = len(source_path)%batch_size # calculate the number of batches\n",
    "        for batch in range(num_batches): # we iterate over the number of batches\n",
    "            batch_data = np.zeros((batch_size,18,100,100,3)) # x is the number of images you use for each video, (y,z) is the final size of the input images and 3 is the number of channels RGB\n",
    "            batch_labels = np.zeros((batch_size,5)) # batch_labels is the one hot representation of the output\n",
    "            for folder in range(batch_size): # iterate over the batch_size\n",
    "                imgs = os.listdir(source_path+'/'+ t[folder + (batch*batch_size)].split(';')[0]) # read all the images in the folder\n",
    "                for idx,item in enumerate(img_idx): #  Iterate iver the frames/images of a folder to read them in\n",
    "                    print('SRC : ',source_path)\n",
    "                    image = imageio.imread(source_path+'/'+ t[folder + (batch*batch_size)].strip().split(';')[0]+'/'+imgs[item]).astype(np.float32)\n",
    "                    \n",
    "                    \n",
    "                    \n",
    "                    # Cropped image of above dimension \n",
    "                    # (It will not change orginal image) \n",
    "                    \n",
    "                    #image = image.crop((0, 0, 120, 120))\n",
    "                    image = image.resize(100, 100)\n",
    "                    \n",
    "                    \n",
    "                    #crop the images and resize them. Note that the images are of 2 different shape \n",
    "                    #and the conv3D will throw error if the inputs in a batch have different shapes\n",
    "                    \n",
    "                    batch_data[folder,idx,:,:,0] /= 255\n",
    "                    batch_data[folder,idx,:,:,1] /= 255 #normalise and feed in the image\n",
    "                    batch_data[folder,idx,:,:,2] /= 255 #normalise and feed in the image\n",
    "                    \n",
    "                batch_labels[folder, int(t[folder + (batch*batch_size)].strip().split(';')[2])] = 1\n",
    "            yield batch_data, batch_labels #you yield the batch_data and the batch_labels, remember what does yield do\n",
    "        \n",
    "        # write the code for the remaining data points which are left after full batches\n"
   ]
  },
  {
   "cell_type": "markdown",
   "metadata": {},
   "source": [
    "Note here that a video is represented above in the generator as (number of images, height, width, number of channels). Take this into consideration while creating the model architecture."
   ]
  },
  {
   "cell_type": "code",
   "execution_count": 12,
   "metadata": {},
   "outputs": [
    {
     "name": "stdout",
     "output_type": "stream",
     "text": [
      "# training sequences = 663\n",
      "# validation sequences = 100\n",
      "# epochs = 15\n"
     ]
    }
   ],
   "source": [
    "curr_dt_time = datetime.datetime.now()\n",
    "train_path = '/datasets/Project_data/train'\n",
    "val_path = '/datasets/Project_data/val'\n",
    "num_train_sequences = len(train_doc)\n",
    "print('# training sequences =', num_train_sequences)\n",
    "num_val_sequences = len(val_doc)\n",
    "print('# validation sequences =', num_val_sequences)\n",
    "num_epochs = 20\n",
    "print ('# epochs =', num_epochs)"
   ]
  },
  {
   "cell_type": "markdown",
   "metadata": {},
   "source": [
    "## Model\n",
    "Here you make the model using different functionalities that Keras provides. Remember to use `Conv3D` and `MaxPooling3D` and not `Conv2D` and `Maxpooling2D` for a 3D convolution model. You would want to use `TimeDistributed` while building a Conv2D + RNN model. Also remember that the last layer is the softmax. Design the network in such a way that the model is able to give good accuracy on the least number of parameters so that it can fit in the memory of the webcam."
   ]
  },
  {
   "cell_type": "code",
   "execution_count": 13,
   "metadata": {},
   "outputs": [],
   "source": [
    "from keras.models import Sequential,Model\n",
    "from keras.layers import Dense,Conv3D,GRU,Flatten,TimeDistributed,BatchNormalization,Activation\n",
    "from keras.layers.convolutional  import Conv3D,Conv2D,MaxPooling3D,MaxPooling2D\n",
    "from keras.layers.recurrent import LSTM\n",
    "\n",
    "from keras.callbacks import ModelCheckpoint, ReduceLROnPlateau, EarlyStopping\n",
    "from keras import optimizers\n",
    "from keras.layers import Dropout\n",
    "\n",
    "input_shape = (18,100,100,3)\n",
    "model= Sequential()\n",
    "model.add(Conv3D(32,(3,3,3), padding='same' , input_shape=input_shape))\n",
    "model.add(Activation('relu'))\n",
    "model.add(BatchNormalization())\n",
    "model.add(Conv3D(32, (3, 3,3)))\n",
    "model.add(Activation('relu'))\n",
    "model.add(BatchNormalization())\n",
    "model.add(MaxPooling3D(pool_size=(2, 2,2)))\n",
    "model.add(Dropout(0.5))\n",
    "\n",
    "model.add(Conv3D(64, (3, 3,3), padding='same'))\n",
    "model.add(Activation('relu'))\n",
    "model.add(BatchNormalization())\n",
    "model.add(Conv3D(64, (3, 3,3)))\n",
    "model.add(Activation('relu'))\n",
    "model.add(BatchNormalization())\n",
    "model.add(MaxPooling3D(pool_size=(2, 2,2)))\n",
    "model.add(Dropout(0.5))\n",
    "model.add(Flatten())\n",
    "model.add(Dense(512))\n",
    "model.add(Activation('relu'))\n",
    "model.add(Dropout(0.5))\n",
    "model.add(Dense(5))\n",
    "model.add(Activation('softmax'))\n"
   ]
  },
  {
   "cell_type": "markdown",
   "metadata": {},
   "source": [
    "Now that you have written the model, the next step is to `compile` the model. When you print the `summary` of the model, you'll see the total number of parameters you have to train."
   ]
  },
  {
   "cell_type": "code",
   "execution_count": 14,
   "metadata": {
    "scrolled": true
   },
   "outputs": [
    {
     "name": "stdout",
     "output_type": "stream",
     "text": [
      "Model: \"sequential_1\"\n",
      "_________________________________________________________________\n",
      "Layer (type)                 Output Shape              Param #   \n",
      "=================================================================\n",
      "conv3d_4 (Conv3D)            (None, 18, 100, 100, 32)  2624      \n",
      "_________________________________________________________________\n",
      "activation_6 (Activation)    (None, 18, 100, 100, 32)  0         \n",
      "_________________________________________________________________\n",
      "batch_normalization_4 (Batch (None, 18, 100, 100, 32)  128       \n",
      "_________________________________________________________________\n",
      "conv3d_5 (Conv3D)            (None, 16, 98, 98, 32)    27680     \n",
      "_________________________________________________________________\n",
      "activation_7 (Activation)    (None, 16, 98, 98, 32)    0         \n",
      "_________________________________________________________________\n",
      "batch_normalization_5 (Batch (None, 16, 98, 98, 32)    128       \n",
      "_________________________________________________________________\n",
      "max_pooling3d_2 (MaxPooling3 (None, 8, 49, 49, 32)     0         \n",
      "_________________________________________________________________\n",
      "dropout_3 (Dropout)          (None, 8, 49, 49, 32)     0         \n",
      "_________________________________________________________________\n",
      "conv3d_6 (Conv3D)            (None, 8, 49, 49, 64)     55360     \n",
      "_________________________________________________________________\n",
      "activation_8 (Activation)    (None, 8, 49, 49, 64)     0         \n",
      "_________________________________________________________________\n",
      "batch_normalization_6 (Batch (None, 8, 49, 49, 64)     256       \n",
      "_________________________________________________________________\n",
      "conv3d_7 (Conv3D)            (None, 6, 47, 47, 64)     110656    \n",
      "_________________________________________________________________\n",
      "activation_9 (Activation)    (None, 6, 47, 47, 64)     0         \n",
      "_________________________________________________________________\n",
      "batch_normalization_7 (Batch (None, 6, 47, 47, 64)     256       \n",
      "_________________________________________________________________\n",
      "max_pooling3d_3 (MaxPooling3 (None, 3, 23, 23, 64)     0         \n",
      "_________________________________________________________________\n",
      "dropout_4 (Dropout)          (None, 3, 23, 23, 64)     0         \n",
      "_________________________________________________________________\n",
      "flatten_1 (Flatten)          (None, 101568)            0         \n",
      "_________________________________________________________________\n",
      "dense_2 (Dense)              (None, 512)               52003328  \n",
      "_________________________________________________________________\n",
      "activation_10 (Activation)   (None, 512)               0         \n",
      "_________________________________________________________________\n",
      "dropout_5 (Dropout)          (None, 512)               0         \n",
      "_________________________________________________________________\n",
      "dense_3 (Dense)              (None, 5)                 2565      \n",
      "_________________________________________________________________\n",
      "activation_11 (Activation)   (None, 5)                 0         \n",
      "=================================================================\n",
      "Total params: 52,202,981\n",
      "Trainable params: 52,202,597\n",
      "Non-trainable params: 384\n",
      "_________________________________________________________________\n",
      "None\n"
     ]
    }
   ],
   "source": [
    "optimiser = optimizers.Adam(lr=0.001)\n",
    "model.compile(optimizer=optimiser, loss='categorical_crossentropy', metrics=['categorical_accuracy'])\n",
    "print (model.summary())"
   ]
  },
  {
   "cell_type": "markdown",
   "metadata": {},
   "source": [
    "Let us create the `train_generator` and the `val_generator` which will be used in `.fit_generator`."
   ]
  },
  {
   "cell_type": "code",
   "execution_count": 15,
   "metadata": {},
   "outputs": [],
   "source": [
    "train_generator = generator(train_path, train_doc, batch_size)\n",
    "val_generator = generator(val_path, val_doc, batch_size)\n"
   ]
  },
  {
   "cell_type": "code",
   "execution_count": 16,
   "metadata": {},
   "outputs": [
    {
     "name": "stdout",
     "output_type": "stream",
     "text": [
      "WARNING:tensorflow:`period` argument is deprecated. Please use `save_freq` to specify the frequency in number of batches seen.\n",
      "WARNING:tensorflow:`epsilon` argument is deprecated and will be removed, use `min_delta` instead.\n"
     ]
    }
   ],
   "source": [
    "model_name = 'model_init' + '_' + str(curr_dt_time).replace(' ','').replace(':','_') + '/'\n",
    "    \n",
    "if not os.path.exists(model_name):\n",
    "    os.mkdir(model_name)\n",
    "        \n",
    "filepath = model_name + 'model-{epoch:05d}-{loss:.5f}-{categorical_accuracy:.5f}-{val_loss:.5f}-{val_categorical_accuracy:.5f}.h5'\n",
    "\n",
    "checkpoint = ModelCheckpoint(filepath, monitor='val_loss', verbose=1, save_best_only=False, save_weights_only=False, mode='auto', period=1)\n",
    "\n",
    "LR = ReduceLROnPlateau(monitor = \"val_loss\", factor = 0.1, patience = 10,\n",
    "  verbose = 0, mode = \"auto\", epsilon = 1e-04, cooldown = 0,\n",
    "  min_lr = 0)\n",
    "callbacks_list = [checkpoint, LR]"
   ]
  },
  {
   "cell_type": "markdown",
   "metadata": {},
   "source": [
    "The `steps_per_epoch` and `validation_steps` are used by `fit_generator` to decide the number of next() calls it need to make."
   ]
  },
  {
   "cell_type": "code",
   "execution_count": 17,
   "metadata": {},
   "outputs": [
    {
     "name": "stdout",
     "output_type": "stream",
     "text": [
      "validation_steps :  2\n"
     ]
    }
   ],
   "source": [
    "if (num_train_sequences%batch_size) == 0:\n",
    "    steps_per_epoch = int(num_train_sequences/batch_size)\n",
    "else:\n",
    "    steps_per_epoch = (num_train_sequences//batch_size) + 1\n",
    "\n",
    "if (num_val_sequences%batch_size) == 0:\n",
    "    validation_steps = int(num_val_sequences/batch_size)\n",
    "else:\n",
    "    validation_steps = (num_val_sequences//batch_size) + 1\n",
    "print('validation_steps : ',validation_steps)"
   ]
  },
  {
   "cell_type": "markdown",
   "metadata": {},
   "source": [
    "Let us now fit the model. This will start training the model and with the help of the checkpoints, you'll be able to save the model at the end of each epoch."
   ]
  },
  {
   "cell_type": "code",
   "execution_count": 18,
   "metadata": {},
   "outputs": [
    {
     "name": "stdout",
     "output_type": "stream",
     "text": [
      "WARNING:tensorflow:From <ipython-input-18-bd77c9c60c14>:3: Model.fit_generator (from tensorflow.python.keras.engine.training) is deprecated and will be removed in a future version.\n",
      "Instructions for updating:\n",
      "Please use Model.fit, which supports generators.\n",
      "Source path =  /datasets/Project_data/train ; batch size = 51\n",
      "Number of batches :  0\n",
      "Number of batches :  28\n",
      "Epoch 1/15\n",
      "12/13 [==========================>...] - ETA: 0s - loss: 1.6089 - categorical_accuracy: 0.3333Source path =  /datasets/Project_data/val ; batch size = 51\n",
      "Number of batches :  0\n",
      "Number of batches :  26\n",
      "\n",
      "Epoch 00001: saving model to model_init_2021-06-2015_31_38.616798/model-00001-1.60926-0.30769-1.61068-0.00000.h5\n",
      "13/13 [==============================] - 3s 258ms/step - loss: 1.6093 - categorical_accuracy: 0.3077 - val_loss: 1.6107 - val_categorical_accuracy: 0.0000e+00\n",
      "Epoch 2/15\n",
      "13/13 [==============================] - ETA: 0s - loss: 1.6078 - categorical_accuracy: 0.2308\n",
      "Epoch 00002: saving model to model_init_2021-06-2015_31_38.616798/model-00002-1.60780-0.23077-1.61533-0.00000.h5\n",
      "13/13 [==============================] - 3s 194ms/step - loss: 1.6078 - categorical_accuracy: 0.2308 - val_loss: 1.6153 - val_categorical_accuracy: 0.0000e+00\n",
      "Epoch 3/15\n",
      " 1/13 [=>............................] - ETA: 0s - loss: 1.6099 - categorical_accuracy: 0.0000e+00Number of batches :  14\n",
      "13/13 [==============================] - ETA: 0s - loss: 1.6093 - categorical_accuracy: 0.2500\n",
      "Epoch 00003: saving model to model_init_2021-06-2015_31_38.616798/model-00003-1.60931-0.25000-1.60944-0.00000.h5\n",
      "13/13 [==============================] - 4s 296ms/step - loss: 1.6093 - categorical_accuracy: 0.2500 - val_loss: 1.6094 - val_categorical_accuracy: 0.0000e+00\n",
      "Epoch 4/15\n",
      " 2/13 [===>..........................] - ETA: 0s - loss: 1.6128 - categorical_accuracy: 0.0000e+00Number of batches :  14\n",
      "13/13 [==============================] - ETA: 0s - loss: 1.6119 - categorical_accuracy: 0.1154\n",
      "Epoch 00004: saving model to model_init_2021-06-2015_31_38.616798/model-00004-1.61193-0.11538-1.60662-0.00000.h5\n",
      "13/13 [==============================] - 4s 277ms/step - loss: 1.6119 - categorical_accuracy: 0.1154 - val_loss: 1.6066 - val_categorical_accuracy: 0.0000e+00\n",
      "Epoch 5/15\n",
      " 3/13 [=====>........................] - ETA: 1s - loss: 1.6099 - categorical_accuracy: 0.0000e+00Number of batches :  14\n",
      "13/13 [==============================] - ETA: 0s - loss: 1.6066 - categorical_accuracy: 0.1538\n",
      "Epoch 00005: saving model to model_init_2021-06-2015_31_38.616798/model-00005-1.60657-0.15385-1.59908-1.00000.h5\n",
      "13/13 [==============================] - 3s 261ms/step - loss: 1.6066 - categorical_accuracy: 0.1538 - val_loss: 1.5991 - val_categorical_accuracy: 1.0000\n",
      "Epoch 6/15\n",
      " 4/13 [========>.....................] - ETA: 0s - loss: 1.6094 - categorical_accuracy: 0.2500Number of batches :  14\n",
      "13/13 [==============================] - ETA: 0s - loss: 1.6129 - categorical_accuracy: 0.1923\n",
      "Epoch 00006: saving model to model_init_2021-06-2015_31_38.616798/model-00006-1.61287-0.19231-1.60333-0.50000.h5\n",
      "13/13 [==============================] - 3s 249ms/step - loss: 1.6129 - categorical_accuracy: 0.1923 - val_loss: 1.6033 - val_categorical_accuracy: 0.5000\n",
      "Epoch 7/15\n",
      " 5/13 [==========>...................] - ETA: 0s - loss: 1.6116 - categorical_accuracy: 0.1000    Number of batches :  14\n",
      "13/13 [==============================] - ETA: 0s - loss: 1.6097 - categorical_accuracy: 0.1538\n",
      "Epoch 00007: saving model to model_init_2021-06-2015_31_38.616798/model-00007-1.60973-0.15385-1.61415-0.00000.h5\n",
      "13/13 [==============================] - 3s 231ms/step - loss: 1.6097 - categorical_accuracy: 0.1538 - val_loss: 1.6141 - val_categorical_accuracy: 0.0000e+00\n",
      "Epoch 8/15\n",
      " 6/13 [============>.................] - ETA: 0s - loss: 1.6118 - categorical_accuracy: 0.2500Number of batches :  14\n",
      "13/13 [==============================] - ETA: 0s - loss: 1.6109 - categorical_accuracy: 0.1923\n",
      "Epoch 00008: saving model to model_init_2021-06-2015_31_38.616798/model-00008-1.61092-0.19231-1.60206-0.50000.h5\n",
      "13/13 [==============================] - 3s 243ms/step - loss: 1.6109 - categorical_accuracy: 0.1923 - val_loss: 1.6021 - val_categorical_accuracy: 0.5000\n",
      "Epoch 9/15\n",
      " 7/13 [===============>..............] - ETA: 0s - loss: 1.6079 - categorical_accuracy: 0.2857Number of batches :  14\n",
      "13/13 [==============================] - ETA: 0s - loss: 1.6073 - categorical_accuracy: 0.2692Number of batches :  13\n",
      "\n",
      "Epoch 00009: saving model to model_init_2021-06-2015_31_38.616798/model-00009-1.60732-0.26923-1.60292-0.00000.h5\n",
      "13/13 [==============================] - 3s 267ms/step - loss: 1.6073 - categorical_accuracy: 0.2692 - val_loss: 1.6029 - val_categorical_accuracy: 0.0000e+00\n",
      "Epoch 10/15\n",
      " 8/13 [=================>............] - ETA: 0s - loss: 1.6087 - categorical_accuracy: 0.1875Number of batches :  14\n",
      "13/13 [==============================] - ETA: 0s - loss: 1.6072 - categorical_accuracy: 0.2308\n",
      "Epoch 00010: saving model to model_init_2021-06-2015_31_38.616798/model-00010-1.60717-0.23077-1.60793-0.00000.h5\n",
      "13/13 [==============================] - 4s 273ms/step - loss: 1.6072 - categorical_accuracy: 0.2308 - val_loss: 1.6079 - val_categorical_accuracy: 0.0000e+00\n",
      "Epoch 11/15\n",
      " 9/13 [===================>..........] - ETA: 0s - loss: 1.6086 - categorical_accuracy: 0.1667Number of batches :  14\n",
      "13/13 [==============================] - ETA: 0s - loss: 1.6106 - categorical_accuracy: 0.1538\n",
      "Epoch 00011: saving model to model_init_2021-06-2015_31_38.616798/model-00011-1.61059-0.15385-1.60391-0.25000.h5\n",
      "13/13 [==============================] - 5s 347ms/step - loss: 1.6106 - categorical_accuracy: 0.1538 - val_loss: 1.6039 - val_categorical_accuracy: 0.2500\n",
      "Epoch 12/15\n",
      "10/13 [======================>.......] - ETA: 0s - loss: 1.6076 - categorical_accuracy: 0.2000Number of batches :  14\n",
      "13/13 [==============================] - ETA: 0s - loss: 1.6076 - categorical_accuracy: 0.1923\n",
      "Epoch 00012: saving model to model_init_2021-06-2015_31_38.616798/model-00012-1.60759-0.19231-1.60752-0.00000.h5\n",
      "13/13 [==============================] - 3s 255ms/step - loss: 1.6076 - categorical_accuracy: 0.1923 - val_loss: 1.6075 - val_categorical_accuracy: 0.0000e+00\n",
      "Epoch 13/15\n",
      "11/13 [========================>.....] - ETA: 0s - loss: 1.6085 - categorical_accuracy: 0.2273Number of batches :  14\n",
      "13/13 [==============================] - ETA: 0s - loss: 1.6083 - categorical_accuracy: 0.1923\n",
      "Epoch 00013: saving model to model_init_2021-06-2015_31_38.616798/model-00013-1.60833-0.19231-1.61245-0.25000.h5\n",
      "13/13 [==============================] - 4s 283ms/step - loss: 1.6083 - categorical_accuracy: 0.1923 - val_loss: 1.6125 - val_categorical_accuracy: 0.2500\n",
      "Epoch 14/15\n",
      "12/13 [==========================>...] - ETA: 0s - loss: 1.6093 - categorical_accuracy: 0.1667Number of batches :  14\n",
      "13/13 [==============================] - ETA: 0s - loss: 1.6096 - categorical_accuracy: 0.1538Number of batches :  13\n",
      "\n",
      "Epoch 00014: saving model to model_init_2021-06-2015_31_38.616798/model-00014-1.60964-0.15385-1.60402-0.00000.h5\n",
      "13/13 [==============================] - 3s 263ms/step - loss: 1.6096 - categorical_accuracy: 0.1538 - val_loss: 1.6040 - val_categorical_accuracy: 0.0000e+00\n",
      "Epoch 15/15\n",
      "13/13 [==============================] - ETA: 0s - loss: 1.6091 - categorical_accuracy: 0.1923\n",
      "Epoch 00015: saving model to model_init_2021-06-2015_31_38.616798/model-00015-1.60913-0.19231-1.60757-0.00000.h5\n",
      "13/13 [==============================] - 6s 465ms/step - loss: 1.6091 - categorical_accuracy: 0.1923 - val_loss: 1.6076 - val_categorical_accuracy: 0.0000e+00\n"
     ]
    },
    {
     "data": {
      "text/plain": [
       "<tensorflow.python.keras.callbacks.History at 0x7fb2f0119080>"
      ]
     },
     "execution_count": 18,
     "metadata": {},
     "output_type": "execute_result"
    }
   ],
   "source": [
    "model.fit_generator(train_generator, steps_per_epoch=steps_per_epoch, epochs=num_epochs, verbose=1, \n",
    "                    callbacks=callbacks_list, validation_data=val_generator, \n",
    "                    validation_steps=validation_steps, class_weight=None, workers=1, initial_epoch=0)"
   ]
  },
  {
   "cell_type": "code",
   "execution_count": null,
   "metadata": {},
   "outputs": [],
   "source": []
  },
  {
   "cell_type": "code",
   "execution_count": null,
   "metadata": {},
   "outputs": [],
   "source": []
  }
 ],
 "metadata": {
  "kernelspec": {
   "display_name": "Python 3",
   "language": "python",
   "name": "python3"
  },
  "language_info": {
   "codemirror_mode": {
    "name": "ipython",
    "version": 3
   },
   "file_extension": ".py",
   "mimetype": "text/x-python",
   "name": "python",
   "nbconvert_exporter": "python",
   "pygments_lexer": "ipython3",
   "version": "3.6.9"
  }
 },
 "nbformat": 4,
 "nbformat_minor": 4
}
